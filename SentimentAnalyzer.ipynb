{
  "nbformat": 4,
  "nbformat_minor": 0,
  "metadata": {
    "colab": {
      "provenance": [],
      "authorship_tag": "ABX9TyOvASNTxcUXKqYg94oyOPSc",
      "include_colab_link": true
    },
    "kernelspec": {
      "name": "python3",
      "display_name": "Python 3"
    },
    "language_info": {
      "name": "python"
    }
  },
  "cells": [
    {
      "cell_type": "markdown",
      "metadata": {
        "id": "view-in-github",
        "colab_type": "text"
      },
      "source": [
        "<a href=\"https://colab.research.google.com/github/osullik/bc-autoreporter/blob/main/SentimentAnalyzer.ipynb\" target=\"_parent\"><img src=\"https://colab.research.google.com/assets/colab-badge.svg\" alt=\"Open In Colab\"/></a>"
      ]
    },
    {
      "cell_type": "code",
      "execution_count": 44,
      "metadata": {
        "colab": {
          "base_uri": "https://localhost:8080/"
        },
        "id": "u9p3zlEWcdp-",
        "outputId": "31124c98-f564-4349-e0a7-c1a942fc29a2"
      },
      "outputs": [
        {
          "output_type": "stream",
          "name": "stderr",
          "text": [
            "[nltk_data] Downloading package vader_lexicon to /root/nltk_data...\n",
            "[nltk_data]   Package vader_lexicon is already up-to-date!\n",
            "[nltk_data] Downloading package stopwords to /root/nltk_data...\n",
            "[nltk_data]   Package stopwords is already up-to-date!\n",
            "[nltk_data] Downloading package names to /root/nltk_data...\n",
            "[nltk_data]   Package names is already up-to-date!\n",
            "[nltk_data] Downloading package averaged_perceptron_tagger to\n",
            "[nltk_data]     /root/nltk_data...\n",
            "[nltk_data]   Package averaged_perceptron_tagger is already up-to-\n",
            "[nltk_data]       date!\n",
            "[nltk_data] Downloading package movie_reviews to /root/nltk_data...\n",
            "[nltk_data]   Package movie_reviews is already up-to-date!\n"
          ]
        },
        {
          "output_type": "execute_result",
          "data": {
            "text/plain": [
              "True"
            ]
          },
          "metadata": {},
          "execution_count": 44
        }
      ],
      "source": [
        "import nltk\n",
        "from nltk.sentiment import SentimentIntensityAnalyzer\n",
        "nltk.download('vader_lexicon')\n",
        "nltk.download('stopwords')\n",
        "nltk.download('names')\n",
        "nltk.download('averaged_perceptron_tagger')\n",
        "nltk.download('movie_reviews')"
      ]
    },
    {
      "cell_type": "code",
      "source": [
        "unwanted = nltk.corpus.stopwords.words(\"english\")\n",
        "unwanted.extend([w.lower() for w in nltk.corpus.names.words()])"
      ],
      "metadata": {
        "id": "IxdSnSweiPX6"
      },
      "execution_count": 45,
      "outputs": []
    },
    {
      "cell_type": "code",
      "source": [
        "def skip_unwanted(pos_tuple):\n",
        "    word, tag = pos_tuple\n",
        "    if not word.isalpha() or word in unwanted:\n",
        "        return False\n",
        "    if tag.startswith(\"NN\"):\n",
        "        return False\n",
        "    return True"
      ],
      "metadata": {
        "id": "HxKNJ_m1iLi9"
      },
      "execution_count": 46,
      "outputs": []
    },
    {
      "cell_type": "code",
      "source": [
        "positive_words = [word for word, tag in filter(skip_unwanted, nltk.pos_tag(nltk.corpus.movie_reviews.words(categories=[\"pos\"])))]\n",
        "negative_words = [word for word, tag in filter(skip_unwanted,nltk.pos_tag(nltk.corpus.movie_reviews.words(categories=[\"neg\"])))]"
      ],
      "metadata": {
        "id": "YbzIzJw-ibOR"
      },
      "execution_count": 34,
      "outputs": []
    },
    {
      "cell_type": "code",
      "source": [
        "def sentiment_score(text):\n",
        "  sia = SentimentIntensityAnalyzer()\n",
        "  return sia.polarity_scores(text)"
      ],
      "metadata": {
        "id": "u49UsTr5dpy1"
      },
      "execution_count": 48,
      "outputs": []
    },
    {
      "cell_type": "code",
      "source": [
        "def extract_adj(text):\n",
        "  return nltk.pos_tag(text.split())"
      ],
      "metadata": {
        "id": "mNYkayBAnPUd"
      },
      "execution_count": 49,
      "outputs": []
    },
    {
      "cell_type": "code",
      "source": [
        "observations = [\"On January 15th, 2021, @HomerSimpson was observed to perform to a satisfactory standard. This was evidenced by his successful completion of a routine safety check on Reactor 4. His actions show #competence #attentiontodetail #safetyconsciousness.\",\n",
        "\"On February 2nd, 2021, @HomerSimpson was observed to perform to a poor standard. This was evidenced by his failure to properly label hazardous waste containers in the storage room, leading to a safety hazard. His actions show #carelessness #lackofattention #safetyoversight.\",\n",
        "\"On March 12th, 2021, @HomerSimpson was observed to perform to an excellent standard. This was evidenced by his quick thinking and calm demeanor during an unexpected power surge in the control room. His actions show #resilience #problem-solving #teamwork.\"]\n"
      ],
      "metadata": {
        "id": "hlITzpiSdAYE"
      },
      "execution_count": 50,
      "outputs": []
    },
    {
      "cell_type": "code",
      "source": [
        "for observation in observations:\n",
        "  print(observation)\n",
        "  print(sentiment_score(observation))\n",
        "  print(extract_adj(observation))"
      ],
      "metadata": {
        "colab": {
          "base_uri": "https://localhost:8080/"
        },
        "id": "5rJssaQtdN64",
        "outputId": "d95838c5-1ac7-4657-fbed-94edefa178bd"
      },
      "execution_count": 51,
      "outputs": [
        {
          "output_type": "stream",
          "name": "stdout",
          "text": [
            "On January 15th, 2021, @HomerSimpson was observed to perform to a satisfactory standard. This was evidenced by his successful completion of a routine safety check on Reactor 4. His actions show #competence #attentiontodetail #safetyconsciousness.\n",
            "{'neg': 0.0, 'neu': 0.761, 'pos': 0.239, 'compound': 0.8442}\n",
            "[('On', 'IN'), ('January', 'NNP'), ('15th,', 'CD'), ('2021,', 'CD'), ('@HomerSimpson', 'NN'), ('was', 'VBD'), ('observed', 'VBN'), ('to', 'TO'), ('perform', 'VB'), ('to', 'TO'), ('a', 'DT'), ('satisfactory', 'JJ'), ('standard.', 'NN'), ('This', 'DT'), ('was', 'VBD'), ('evidenced', 'VBN'), ('by', 'IN'), ('his', 'PRP$'), ('successful', 'JJ'), ('completion', 'NN'), ('of', 'IN'), ('a', 'DT'), ('routine', 'JJ'), ('safety', 'NN'), ('check', 'NN'), ('on', 'IN'), ('Reactor', 'NNP'), ('4.', 'CD'), ('His', 'PRP$'), ('actions', 'NNS'), ('show', 'VBP'), ('#competence', 'JJ'), ('#attentiontodetail', 'NNP'), ('#safetyconsciousness.', 'NN')]\n",
            "On February 2nd, 2021, @HomerSimpson was observed to perform to a poor standard. This was evidenced by his failure to properly label hazardous waste containers in the storage room, leading to a safety hazard. His actions show #carelessness #lackofattention #safetyoversight.\n",
            "{'neg': 0.2, 'neu': 0.739, 'pos': 0.061, 'compound': -0.7506}\n",
            "[('On', 'IN'), ('February', 'NNP'), ('2nd,', 'CD'), ('2021,', 'CD'), ('@HomerSimpson', 'NN'), ('was', 'VBD'), ('observed', 'VBN'), ('to', 'TO'), ('perform', 'VB'), ('to', 'TO'), ('a', 'DT'), ('poor', 'JJ'), ('standard.', 'NN'), ('This', 'DT'), ('was', 'VBD'), ('evidenced', 'VBN'), ('by', 'IN'), ('his', 'PRP$'), ('failure', 'NN'), ('to', 'TO'), ('properly', 'RB'), ('label', 'VB'), ('hazardous', 'JJ'), ('waste', 'NN'), ('containers', 'NNS'), ('in', 'IN'), ('the', 'DT'), ('storage', 'NN'), ('room,', 'NN'), ('leading', 'VBG'), ('to', 'TO'), ('a', 'DT'), ('safety', 'NN'), ('hazard.', 'NN'), ('His', 'PRP$'), ('actions', 'NNS'), ('show', 'VBP'), ('#carelessness', 'JJ'), ('#lackofattention', 'NN'), ('#safetyoversight.', 'NN')]\n",
            "On March 12th, 2021, @HomerSimpson was observed to perform to an excellent standard. This was evidenced by his quick thinking and calm demeanor during an unexpected power surge in the control room. His actions show #resilience #problem-solving #teamwork.\n",
            "{'neg': 0.0, 'neu': 0.857, 'pos': 0.143, 'compound': 0.7184}\n",
            "[('On', 'IN'), ('March', 'NNP'), ('12th,', 'CD'), ('2021,', 'CD'), ('@HomerSimpson', 'NN'), ('was', 'VBD'), ('observed', 'VBN'), ('to', 'TO'), ('perform', 'VB'), ('to', 'TO'), ('an', 'DT'), ('excellent', 'JJ'), ('standard.', 'NN'), ('This', 'DT'), ('was', 'VBD'), ('evidenced', 'VBN'), ('by', 'IN'), ('his', 'PRP$'), ('quick', 'JJ'), ('thinking', 'NN'), ('and', 'CC'), ('calm', 'JJ'), ('demeanor', 'NN'), ('during', 'IN'), ('an', 'DT'), ('unexpected', 'JJ'), ('power', 'NN'), ('surge', 'NN'), ('in', 'IN'), ('the', 'DT'), ('control', 'NN'), ('room.', 'VBZ'), ('His', 'PRP$'), ('actions', 'NNS'), ('show', 'VBP'), ('#resilience', 'JJ'), ('#problem-solving', 'JJ'), ('#teamwork.', 'NN')]\n"
          ]
        }
      ]
    }
  ]
}