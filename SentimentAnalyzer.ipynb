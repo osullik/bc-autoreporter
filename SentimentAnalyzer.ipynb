{
  "nbformat": 4,
  "nbformat_minor": 0,
  "metadata": {
    "colab": {
      "provenance": [],
      "authorship_tag": "ABX9TyPNaz3aJvvQm4tp0CRs/LDb",
      "include_colab_link": true
    },
    "kernelspec": {
      "name": "python3",
      "display_name": "Python 3"
    },
    "language_info": {
      "name": "python"
    }
  },
  "cells": [
    {
      "cell_type": "markdown",
      "metadata": {
        "id": "view-in-github",
        "colab_type": "text"
      },
      "source": [
        "<a href=\"https://colab.research.google.com/github/osullik/bc-autoreporter/blob/main/SentimentAnalyzer.ipynb\" target=\"_parent\"><img src=\"https://colab.research.google.com/assets/colab-badge.svg\" alt=\"Open In Colab\"/></a>"
      ]
    },
    {
      "cell_type": "markdown",
      "source": [
        "# Imports"
      ],
      "metadata": {
        "id": "gKLjLRW90cgE"
      }
    },
    {
      "cell_type": "code",
      "execution_count": 63,
      "metadata": {
        "colab": {
          "base_uri": "https://localhost:8080/"
        },
        "id": "u9p3zlEWcdp-",
        "outputId": "e1d17660-e94e-4107-fb11-bc335cd16495"
      },
      "outputs": [
        {
          "output_type": "stream",
          "name": "stderr",
          "text": [
            "[nltk_data] Downloading package vader_lexicon to /root/nltk_data...\n",
            "[nltk_data]   Package vader_lexicon is already up-to-date!\n",
            "[nltk_data] Downloading package stopwords to /root/nltk_data...\n",
            "[nltk_data]   Package stopwords is already up-to-date!\n",
            "[nltk_data] Downloading package names to /root/nltk_data...\n",
            "[nltk_data]   Package names is already up-to-date!\n",
            "[nltk_data] Downloading package averaged_perceptron_tagger to\n",
            "[nltk_data]     /root/nltk_data...\n",
            "[nltk_data]   Package averaged_perceptron_tagger is already up-to-\n",
            "[nltk_data]       date!\n",
            "[nltk_data] Downloading package movie_reviews to /root/nltk_data...\n",
            "[nltk_data]   Package movie_reviews is already up-to-date!\n"
          ]
        },
        {
          "output_type": "execute_result",
          "data": {
            "text/plain": [
              "True"
            ]
          },
          "metadata": {},
          "execution_count": 63
        }
      ],
      "source": [
        "import nltk\n",
        "from nltk.sentiment import SentimentIntensityAnalyzer\n",
        "nltk.download('vader_lexicon')\n",
        "nltk.download('stopwords')\n",
        "nltk.download('names')\n",
        "nltk.download('averaged_perceptron_tagger')\n",
        "#nltk.download('movie_reviews')"
      ]
    },
    {
      "cell_type": "markdown",
      "source": [
        "# Utility Functions"
      ],
      "metadata": {
        "id": "7hTebJ640fGn"
      }
    },
    {
      "cell_type": "code",
      "source": [
        "unwanted = nltk.corpus.stopwords.words(\"english\")\n",
        "unwanted.extend([w.lower() for w in nltk.corpus.names.words()])"
      ],
      "metadata": {
        "id": "IxdSnSweiPX6"
      },
      "execution_count": 45,
      "outputs": []
    },
    {
      "cell_type": "code",
      "source": [
        "# Utility function to prevent words from being returned during the analysis\n",
        "# Not currently used\n",
        "def skip_unwanted(pos_tuple):\n",
        "    word, tag = pos_tuple\n",
        "    if not word.isalpha() or word in unwanted:\n",
        "        return False\n",
        "    if tag.startswith(\"NN\"):\n",
        "        return False\n",
        "    return True"
      ],
      "metadata": {
        "id": "HxKNJ_m1iLi9"
      },
      "execution_count": 46,
      "outputs": []
    },
    {
      "cell_type": "code",
      "source": [
        "# positive_words = [word for word, tag in filter(skip_unwanted, nltk.pos_tag(nltk.corpus.movie_reviews.words(categories=[\"pos\"])))]\n",
        "# negative_words = [word for word, tag in filter(skip_unwanted,nltk.pos_tag(nltk.corpus.movie_reviews.words(categories=[\"neg\"])))]"
      ],
      "metadata": {
        "id": "YbzIzJw-ibOR"
      },
      "execution_count": 34,
      "outputs": []
    },
    {
      "cell_type": "code",
      "source": [
        "# VADER (Valence Aware Dictionary and sEntiment Reasoner) is an open-source lexicon and rule-based sentiment analysis tool \n",
        "# that is specifically attuned to sentiments expressed in social media.\n",
        "# Compound score is used to determine sentiment. It ranges from -1 (extreme negative) to +1 (extrememly positive)\n",
        "def sentiment_score(text):\n",
        "  sia = SentimentIntensityAnalyzer()\n",
        "  return sia.polarity_scores(text)"
      ],
      "metadata": {
        "id": "u49UsTr5dpy1"
      },
      "execution_count": 48,
      "outputs": []
    },
    {
      "cell_type": "code",
      "source": [
        "# Function to return all adjectives and adverbs from the report text\n",
        "# Descriptive words (adjectives and adverbs) are most likely to influence the sentiment of the text.\n",
        "def extract_adj(text):\n",
        "  tagged_text = nltk.pos_tag(text.split())\n",
        "  return [i[0] for i in tagged_text if i[1] in ['RB','RBR','RBS','JJ','JJR','JJS']]  # adjectives or adverbs"
      ],
      "metadata": {
        "id": "mNYkayBAnPUd"
      },
      "execution_count": 61,
      "outputs": []
    },
    {
      "cell_type": "markdown",
      "source": [
        "# Sample data to test functions"
      ],
      "metadata": {
        "id": "GjoEoMqK0ia5"
      }
    },
    {
      "cell_type": "code",
      "source": [
        "observations = [\"On January 15th, 2021, @HomerSimpson was observed to perform to a satisfactory standard. This was evidenced by his successful completion of a routine safety check on Reactor 4. His actions show #competence #attentiontodetail #safetyconsciousness.\",\n",
        "\"On February 2nd, 2021, @HomerSimpson was observed to perform to a poor standard. This was evidenced by his failure to properly label hazardous waste containers in the storage room, leading to a safety hazard. His actions show #carelessness #lackofattention #safetyoversight.\",\n",
        "\"On March 12th, 2021, @HomerSimpson was observed to perform to an excellent standard. This was evidenced by his quick thinking and calm demeanor during an unexpected power surge in the control room. His actions show #resilience #problem-solving #teamwork.\"]\n"
      ],
      "metadata": {
        "id": "hlITzpiSdAYE"
      },
      "execution_count": 50,
      "outputs": []
    },
    {
      "cell_type": "code",
      "source": [
        "for observation in observations:\n",
        "  print(observation)\n",
        "  print(sentiment_score(observation))\n",
        "  print(extract_adj(observation))"
      ],
      "metadata": {
        "colab": {
          "base_uri": "https://localhost:8080/"
        },
        "id": "5rJssaQtdN64",
        "outputId": "3cae26db-ad3d-4dfe-ea7b-c6682995c2fa"
      },
      "execution_count": 62,
      "outputs": [
        {
          "output_type": "stream",
          "name": "stdout",
          "text": [
            "On January 15th, 2021, @HomerSimpson was observed to perform to a satisfactory standard. This was evidenced by his successful completion of a routine safety check on Reactor 4. His actions show #competence #attentiontodetail #safetyconsciousness.\n",
            "{'neg': 0.0, 'neu': 0.761, 'pos': 0.239, 'compound': 0.8442}\n",
            "['satisfactory', 'successful', 'routine', '#competence']\n",
            "On February 2nd, 2021, @HomerSimpson was observed to perform to a poor standard. This was evidenced by his failure to properly label hazardous waste containers in the storage room, leading to a safety hazard. His actions show #carelessness #lackofattention #safetyoversight.\n",
            "{'neg': 0.2, 'neu': 0.739, 'pos': 0.061, 'compound': -0.7506}\n",
            "['poor', 'properly', 'hazardous', '#carelessness']\n",
            "On March 12th, 2021, @HomerSimpson was observed to perform to an excellent standard. This was evidenced by his quick thinking and calm demeanor during an unexpected power surge in the control room. His actions show #resilience #problem-solving #teamwork.\n",
            "{'neg': 0.0, 'neu': 0.857, 'pos': 0.143, 'compound': 0.7184}\n",
            "['excellent', 'quick', 'calm', 'unexpected', '#resilience', '#problem-solving']\n"
          ]
        }
      ]
    }
  ]
}