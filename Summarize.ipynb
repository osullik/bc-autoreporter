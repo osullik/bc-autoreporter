{
  "nbformat": 4,
  "nbformat_minor": 0,
  "metadata": {
    "colab": {
      "provenance": [],
      "authorship_tag": "ABX9TyPYyfO82d2lcc24AMxDA8Fc",
      "include_colab_link": true
    },
    "kernelspec": {
      "name": "python3",
      "display_name": "Python 3"
    },
    "language_info": {
      "name": "python"
    }
  },
  "cells": [
    {
      "cell_type": "markdown",
      "metadata": {
        "id": "view-in-github",
        "colab_type": "text"
      },
      "source": [
        "<a href=\"https://colab.research.google.com/github/osullik/bc-autoreporter/blob/main/Summarize.ipynb\" target=\"_parent\"><img src=\"https://colab.research.google.com/assets/colab-badge.svg\" alt=\"Open In Colab\"/></a>"
      ]
    },
    {
      "cell_type": "markdown",
      "source": [
        "# Imports"
      ],
      "metadata": {
        "id": "-If8c_sOCKoA"
      }
    },
    {
      "cell_type": "code",
      "source": [
        "!pip install sentencepiece"
      ],
      "metadata": {
        "colab": {
          "base_uri": "https://localhost:8080/"
        },
        "id": "kiYc1tsC_wYi",
        "outputId": "daab4bc4-0bf0-456f-df67-b224d7ba310c"
      },
      "execution_count": 1,
      "outputs": [
        {
          "output_type": "stream",
          "name": "stdout",
          "text": [
            "Looking in indexes: https://pypi.org/simple, https://us-python.pkg.dev/colab-wheels/public/simple/\n",
            "Requirement already satisfied: sentencepiece in /usr/local/lib/python3.9/dist-packages (0.1.97)\n"
          ]
        }
      ]
    },
    {
      "cell_type": "code",
      "source": [
        "!pip install transformers"
      ],
      "metadata": {
        "colab": {
          "base_uri": "https://localhost:8080/"
        },
        "id": "LewhsLbe_PRD",
        "outputId": "21104ee3-455c-4c21-96b1-1ae9619b9310"
      },
      "execution_count": 2,
      "outputs": [
        {
          "output_type": "stream",
          "name": "stdout",
          "text": [
            "Looking in indexes: https://pypi.org/simple, https://us-python.pkg.dev/colab-wheels/public/simple/\n",
            "Requirement already satisfied: transformers in /usr/local/lib/python3.9/dist-packages (4.27.4)\n",
            "Requirement already satisfied: requests in /usr/local/lib/python3.9/dist-packages (from transformers) (2.27.1)\n",
            "Requirement already satisfied: filelock in /usr/local/lib/python3.9/dist-packages (from transformers) (3.10.7)\n",
            "Requirement already satisfied: tqdm>=4.27 in /usr/local/lib/python3.9/dist-packages (from transformers) (4.65.0)\n",
            "Requirement already satisfied: pyyaml>=5.1 in /usr/local/lib/python3.9/dist-packages (from transformers) (6.0)\n",
            "Requirement already satisfied: packaging>=20.0 in /usr/local/lib/python3.9/dist-packages (from transformers) (23.0)\n",
            "Requirement already satisfied: tokenizers!=0.11.3,<0.14,>=0.11.1 in /usr/local/lib/python3.9/dist-packages (from transformers) (0.13.3)\n",
            "Requirement already satisfied: huggingface-hub<1.0,>=0.11.0 in /usr/local/lib/python3.9/dist-packages (from transformers) (0.13.4)\n",
            "Requirement already satisfied: regex!=2019.12.17 in /usr/local/lib/python3.9/dist-packages (from transformers) (2022.10.31)\n",
            "Requirement already satisfied: numpy>=1.17 in /usr/local/lib/python3.9/dist-packages (from transformers) (1.22.4)\n",
            "Requirement already satisfied: typing-extensions>=3.7.4.3 in /usr/local/lib/python3.9/dist-packages (from huggingface-hub<1.0,>=0.11.0->transformers) (4.5.0)\n",
            "Requirement already satisfied: charset-normalizer~=2.0.0 in /usr/local/lib/python3.9/dist-packages (from requests->transformers) (2.0.12)\n",
            "Requirement already satisfied: certifi>=2017.4.17 in /usr/local/lib/python3.9/dist-packages (from requests->transformers) (2022.12.7)\n",
            "Requirement already satisfied: idna<4,>=2.5 in /usr/local/lib/python3.9/dist-packages (from requests->transformers) (3.4)\n",
            "Requirement already satisfied: urllib3<1.27,>=1.21.1 in /usr/local/lib/python3.9/dist-packages (from requests->transformers) (1.26.15)\n"
          ]
        }
      ]
    },
    {
      "cell_type": "code",
      "execution_count": 3,
      "metadata": {
        "id": "eg_5OL4q-56M"
      },
      "outputs": [],
      "source": [
        "from transformers import T5Tokenizer, T5Config, T5ForConditionalGeneration"
      ]
    },
    {
      "cell_type": "code",
      "source": [
        "from transformers import BartTokenizer, BartForConditionalGeneration\n",
        "import torch"
      ],
      "metadata": {
        "id": "HWyV_lccFPK7"
      },
      "execution_count": 52,
      "outputs": []
    },
    {
      "cell_type": "markdown",
      "source": [
        "# Read in data\n",
        "Assume each set of evaluations corresponds to the same employee. Different employees will be read in separately and run through the model separately to generate per-employee summaries."
      ],
      "metadata": {
        "id": "zqWP-HHWCN8O"
      }
    },
    {
      "cell_type": "code",
      "source": [
        "# Gather data to summarize\n",
        "original_text = 'Junk foods taste good that’s why it is mostly liked by everyone of any age group especially kids and school going children. They generally ask for the junk food daily because they have been trend so by their parents from the childhood. They never have been discussed by their parents about the harmful effects of junk foods over health. According to the research by scientists, it has been found that junk foods have negative effects on the health in many ways. They are generally fried food found in the market in the packets. They become high in calories, high in cholesterol, low in healthy nutrients, high in sodium mineral, high in sugar, starch, unhealthy fat, lack of protein and lack of dietary fibers. Processed and junk foods are the means of rapid and unhealthy weight gain and negatively impact the whole body throughout the life. It makes able a person to gain excessive weight which is called as obesity. Junk foods tastes good and looks good however do not fulfil the healthy calorie requirement of the body. Some of the foods like french fries, fried foods, pizza, burgers, candy, soft drinks, baked goods, ice cream, cookies, etc are the example of high-sugar and high-fat containing foods. It is found according to the Centres for Disease Control and Prevention that Kids and children eating junk food are more prone to the type-2 diabetes. In type-2 diabetes our body become unable to regulate blood sugar level. Risk of getting this disease is increasing as one become more obese or overweight. It increases the risk of kidney failure. Eating junk food daily lead us to the nutritional deficiencies in the body because it is lack of essential nutrients, vitamins, iron, minerals and dietary fibers. It increases risk of cardiovascular diseases because it is rich in saturated fat, sodium and bad cholesterol. High sodium and bad cholesterol diet increases blood pressure and overloads the heart functioning. One who like junk food develop more risk to put on extra weight and become fatter and unhealthier. Junk foods contain high level carbohydrate which spike blood sugar level and make person more lethargic, sleepy and less active and alert. Reflexes and senses of the people eating this food become dull day by day thus they live more sedentary life. Junk foods are the source of constipation and other disease like diabetes, heart ailments, clogged arteries, heart attack, strokes, etc because of being poor in nutrition. Junk food is the easiest way to gain unhealthy weight. The amount of fats and sugar in the food makes you gain weight rapidly. However, this is not a healthy weight. It is more of fats and cholesterol which will have a harmful impact on your health. Junk food is also one of the main reasons for the increase in obesity nowadays.This food only looks and tastes good, other than that, it has no positive points. The amount of calorie your body requires to stay fit is not fulfilled by this food. For instance, foods like French fries, burgers, candy, and cookies, all have high amounts of sugar and fats. Therefore, this can result in long-term illnesses like diabetes and high blood pressure. This may also result in kidney failure. Above all, you can get various nutritional deficiencies when you don’t consume the essential nutrients, vitamins, minerals and more. You become prone to cardiovascular diseases due to the consumption of bad cholesterol and fat plus sodium. In other words, all this interferes with the functioning of your heart. Furthermore, junk food contains a higher level of carbohydrates. It will instantly spike your blood sugar levels. This will result in lethargy, inactiveness, and sleepiness. A person reflex becomes dull overtime and they lead an inactive life. To make things worse, junk food also clogs your arteries and increases the risk of a heart attack. Therefore, it must be avoided at the first instance to save your life from becoming ruined.The main problem with junk food is that people don’t realize its ill effects now. When the time comes, it is too late. Most importantly, the issue is that it does not impact you instantly. It works on your overtime; you will face the consequences sooner or later. Thus, it is better to stop now.You can avoid junk food by encouraging your children from an early age to eat green vegetables. Their taste buds must be developed as such that they find healthy food tasty. Moreover, try to mix things up. Do not serve the same green vegetable daily in the same style. Incorporate different types of healthy food in their diet following different recipes. This will help them to try foods at home rather than being attracted to junk food.In short, do not deprive them completely of it as that will not help. Children will find one way or the other to have it. Make sure you give them junk food in limited quantities and at healthy periods of time. \""
      ],
      "metadata": {
        "id": "BhP0CdwC_Dcr"
      },
      "execution_count": 4,
      "outputs": []
    },
    {
      "cell_type": "code",
      "source": [
        "original_text1 = \"On January 15th, @WaylonSmithers was observed to perform to an excellent standard. This was evidenced by his meticulous preparation and coordination of a company-wide charity event, ensuring its success. His actions show #meticulousness and #precision.\"\n",
        "original_text2 = \"On April 10th, @WaylonSmithers was observed to perform to an excellent standard. This was evidenced by his exceptional leadership and direction of a complex merger between two companies, ensuring its success. His actions show #leadership and #vision.\"\n",
        "original_text3 = \"On July 4th, @WaylonSmithers was observed to perform to an excellent standard. This was evidenced by his unwavering dedication to perfecting the design of a new product line, ensuring its success in the market. His actions show #dedication and #discipline.\"\n",
        "original_text4 = \"On October 31st, @WaylonSmithers was observed to perform to an excellent standard. This was evidenced by his outstanding initiative in organizing a successful product launch event, garnering media attention and generating high sales. His actions show #creativity and #organizationalSkills.\""
      ],
      "metadata": {
        "id": "qkGAHv1BC9jW"
      },
      "execution_count": 29,
      "outputs": []
    },
    {
      "cell_type": "code",
      "source": [
        "original_text = original_text1 + ' ' + original_text2 + ' ' + original_text3 + ' ' + original_text4\n",
        "original_text"
      ],
      "metadata": {
        "colab": {
          "base_uri": "https://localhost:8080/",
          "height": 109
        },
        "id": "BTfsqluODeO5",
        "outputId": "b11e1d47-7a72-44a7-865b-dc54d3697cbf"
      },
      "execution_count": 32,
      "outputs": [
        {
          "output_type": "execute_result",
          "data": {
            "text/plain": [
              "'On January 15th, @WaylonSmithers was observed to perform to an excellent standard. This was evidenced by his meticulous preparation and coordination of a company-wide charity event, ensuring its success. His actions show #meticulousness and #precision. On April 10th, @WaylonSmithers was observed to perform to an excellent standard. This was evidenced by his exceptional leadership and direction of a complex merger between two companies, ensuring its success. His actions show #leadership and #vision. On July 4th, @WaylonSmithers was observed to perform to an excellent standard. This was evidenced by his unwavering dedication to perfecting the design of a new product line, ensuring its success in the market. His actions show #dedication and #discipline. On October 31st, @WaylonSmithers was observed to perform to an excellent standard. This was evidenced by his outstanding initiative in organizing a successful product launch event, garnering media attention and generating high sales. His actions show #creativity and #organizationalSkills.'"
            ],
            "application/vnd.google.colaboratory.intrinsic+json": {
              "type": "string"
            }
          },
          "metadata": {},
          "execution_count": 32
        }
      ]
    },
    {
      "cell_type": "code",
      "source": [
        "original_text = \"On January 15th, 2021, @HomerSimpson was observed to perform to a satisfactory standard. This was evidenced by his successful completion of a routine safety check on Reactor 4. His actions show #competence #attentiontodetail #safetyconsciousness. On February 2nd, 2021, @HomerSimpson was observed to perform to a poor standard. This was evidenced by his failure to properly label hazardous waste containers in the storage room, leading to a safety hazard. His actions show #carelessness #lackofattention #safetyoversight. On March 12th, 2021, @HomerSimpson was observed to perform to an excellent standard. This was evidenced by his quick thinking and calm demeanor during an unexpected power surge in the control room. His actions show #resilience #problem-solving #teamwork.On April 5th, 2021, @HomerSimpson was observed to perform to a very good standard. This was evidenced by his leadership during a fire drill, guiding his team to safety and ensuring that all necessary procedures were followed. His actions show #leadership #teamcoordination #safetyconsciousness. On May 22nd, 2021, @HomerSimpson was observed to perform to a satisfactory standard. This was evidenced by his successful completion of a routine maintenance check on the cooling system, though he did require some prompting to remember certain procedures. His actions show #competence #teachable #attentiontodetail. On June 7th, 2021, @HomerSimpson was observed to perform to a poor standard. This was evidenced by his failure to report a leak in a coolant pipe, which caused damage to nearby equipment. His actions show #negligence #lackofresponsibility #safetyoversight. On July 15th, 2021, @HomerSimpson was observed to perform to a good standard. This was evidenced by his successful completion of a new training module on emergency response procedures. His actions show #willingnesstolearn #adaptability #safetyconsciousness. On August 9th, 2021, @HomerSimpson was observed to perform to a very good standard. This was evidenced by his coordination of a team to repair a malfunctioning steam valve, minimizing downtime and avoiding any safety hazards. His actions show #teamcoordination #problem-solving #efficiency. On September 27th, 2021, @HomerSimpson was observed to perform to a satisfactory standard. This was evidenced by his successful completion of a routine inspection of the turbine generators, though he did forget to record one measurement. His actions show #competence #attentiontodetail #teachable. On October 14th, 2021, @HomerSimpson was observed to perform to an excellent standard. This was evidenced by his quick response to a power outage in Sector 7G, restoring power and ensuring that critical systems remained operational. His actions show #resilience #problem-solving #safetyconsciousness. On May 3rd @HomerSimpson was observed to perform to a satisfactory standard. This was evidenced by his willingness to work overtime to assist with the cleanup of the oil spill. His actions show #dedication and #cooperativeness. On May 11th @HomerSimpson was observed to perform to a poor standard. This was evidenced by his careless handling of nuclear waste, which resulted in a spill that contaminated the town's water supply. His actions show #recklessness and #carelessness. On May 27th @HomerSimpson was observed to perform to a poor standard. This was evidenced by his lack of concern for the safety of his fellow workers when he removed safety equipment in order to increase his productivity. His actions show #irresponsibility and #selfishness. On June 3rd @HomerSimpson was observed to perform to a satisfactory standard. This was evidenced by his ability to work effectively under pressure when the plant's emergency systems were activated. His actions show #calmness and #levelheadedness. On June 9th @HomerSimpson was observed to perform to a good standard. This was evidenced by his creative solution to the plant's budget problems, which involved turning off unnecessary equipment. His actions show #innovation and #costconsciousness. On June 16th @HomerSimpson was observed to perform to a very good standard. This was evidenced by his success in negotiating a union contract that was fair to both the workers and the company. His actions show #diplomacy and #negotiation skills. On June 23rd @HomerSimpson was observed to perform to a poor standard. This was evidenced by his careless use of the company car, which resulted in damage to both the car and the property of others. His actions show #carelessness and #negligence. On June 29th @HomerSimpson was observed to perform to a satisfactory standard. This was evidenced by his willingness to work on a holiday in order to assist with an important project. His actions show #dedication and #teamwork. On August 1st, while filling in for Smithers, @HomerSimpson was observed to perform to a very good standard. This was evidenced by his organization of Mr. Burns' schedule and preparation of his meals. His actions show #responsibility, #efficiency, and #attentiontodetail. On August 3rd, @HomerSimpson was observed to perform to a satisfactory standard. This was evidenced by his handling of Mr. Burns' incoming mail and scheduling of appointments. His actions show #competence and #accuracy, but there is room for improvement. On August 7th, @HomerSimpson was observed to perform to a poor standard. This was evidenced by his mishandling of Mr. Burns' laundry, resulting in several ruined garments. His actions show #carelessness and #inattention. On August 10th, @HomerSimpson was observed to perform to a very good standard. This was evidenced by his creative solution to a scheduling conflict, allowing Mr. Burns to attend both a charity event and a business meeting. His actions show #resourcefulness and #innovation. On August 15th, @HomerSimpson was observed to perform to a satisfactory standard. This was evidenced by his coordination of Mr. Burns' transportation for the day. His actions show #adequacy and #dependability, but once again, there is room for improvement. On August 18th, @HomerSimpson was observed to perform to a good standard. This was evidenced by his successful negotiation of a contract with a new supplier, resulting in cost savings for the company. His actions show #assertiveness and #businesssavvy. On August 22nd, @HomerSimpson was observed to perform to a very good standard. This was evidenced by his management of Mr. Burns' finances, including payment of bills and tracking of expenses. His actions show #financialacumen and #thoroughness. On August 25th, @HomerSimpson was observed to perform to a poor standard. This was evidenced by his forgetting to inform Mr. Burns of an important meeting, resulting in a missed opportunity for the company. His actions show #forgetfulness and #lackofattention. On August 28th, @HomerSimpson was observed to perform to a good standard. This was evidenced by his troubleshooting of a technical issue with the office equipment, avoiding a costly repair bill. His actions show #technicalskill and #problem-solving. On August 31st, @HomerSimpson was observed to perform to a satisfactory standard. This was evidenced by his handling of Mr. Burns' correspondence and phone calls for the day. His actions show #mediocrity and #routine, but no major mistakes were made.\""
      ],
      "metadata": {
        "id": "5Dl_Dg5SYaBR"
      },
      "execution_count": 79,
      "outputs": []
    },
    {
      "cell_type": "markdown",
      "source": [
        "# Create Model\n",
        "Pretrained T5 model from Hugging Face library. This is a generic model that can do translation, summarization, etc. We will pass it the 'summarize' command appended to the front of the input stream to trigger a summary output from the model.\n",
        "\n",
        "https://towardsdatascience.com/simple-abstractive-text-summarization-with-pretrained-t5-text-to-text-transfer-transformer-10f6d602c426 "
      ],
      "metadata": {
        "id": "7IuTZPbsCUE9"
      }
    },
    {
      "cell_type": "code",
      "source": [
        "# Instantiate the model \n",
        "model = T5ForConditionalGeneration.from_pretrained('t5-small')\n",
        "##model = BartForConditionalGeneration.from_pretrained('facebook/bart-large-cnn')"
      ],
      "metadata": {
        "id": "ftgOTCpECbph"
      },
      "execution_count": 70,
      "outputs": []
    },
    {
      "cell_type": "markdown",
      "source": [
        "# Preprocess Text\n",
        "Corresponding T5 tokenizer from Hugging Face library"
      ],
      "metadata": {
        "id": "5FLwC_4ZCZB5"
      }
    },
    {
      "cell_type": "code",
      "source": [
        "# Instantiate the tokenizer \n",
        "tokenizer = T5Tokenizer.from_pretrained('t5-small')\n",
        "##tokenizer = BartTokenizer.from_pretrained('facebook/bart-large-cnn')"
      ],
      "metadata": {
        "colab": {
          "base_uri": "https://localhost:8080/"
        },
        "id": "dFb9azUO_dMC",
        "outputId": "58384815-516b-4957-d0f9-fa012b4c36d7"
      },
      "execution_count": 71,
      "outputs": [
        {
          "output_type": "stream",
          "name": "stderr",
          "text": [
            "/usr/local/lib/python3.9/dist-packages/transformers/models/t5/tokenization_t5.py:163: FutureWarning: This tokenizer was incorrectly instantiated with a model max length of 512 which will be corrected in Transformers v5.\n",
            "For now, this behavior is kept to avoid breaking backwards compatibility when padding/encoding with `truncation is True`.\n",
            "- Be aware that you SHOULD NOT rely on t5-small automatically truncating your input to 512 when padding/encoding.\n",
            "- If you want to encode/pad to sequences longer than 512 you can either instantiate this tokenizer with `model_max_length` or pass `max_length` when encoding/padding.\n",
            "- To avoid this warning, please instantiate this tokenizer with `model_max_length` set to your preferred value.\n",
            "  warnings.warn(\n"
          ]
        }
      ]
    },
    {
      "cell_type": "code",
      "source": [
        "# Concatenate the word \"summarize:\" to raw text to tell the model what task to perform on the input\n",
        "preprocess_text = original_text.strip().replace(\"\\n\",\"\")\n",
        "t5_prepared_Text = \"summarize: \"+preprocess_text\n",
        "print (\"original text preprocessed: \\n\", preprocess_text)\n",
        "\n",
        "tokenized_text = tokenizer.encode(t5_prepared_Text, return_tensors=\"pt\")"
      ],
      "metadata": {
        "colab": {
          "base_uri": "https://localhost:8080/"
        },
        "id": "_FtvMUdW_hzw",
        "outputId": "f9105ed9-3b05-43e1-bd36-37e094610a37"
      },
      "execution_count": 80,
      "outputs": [
        {
          "output_type": "stream",
          "name": "stderr",
          "text": [
            "Token indices sequence length is longer than the specified maximum sequence length for this model (1831 > 512). Running this sequence through the model will result in indexing errors\n"
          ]
        },
        {
          "output_type": "stream",
          "name": "stdout",
          "text": [
            "original text preprocessed: \n",
            " On January 15th, 2021, @HomerSimpson was observed to perform to a satisfactory standard. This was evidenced by his successful completion of a routine safety check on Reactor 4. His actions show #competence #attentiontodetail #safetyconsciousness. On February 2nd, 2021, @HomerSimpson was observed to perform to a poor standard. This was evidenced by his failure to properly label hazardous waste containers in the storage room, leading to a safety hazard. His actions show #carelessness #lackofattention #safetyoversight. On March 12th, 2021, @HomerSimpson was observed to perform to an excellent standard. This was evidenced by his quick thinking and calm demeanor during an unexpected power surge in the control room. His actions show #resilience #problem-solving #teamwork.On April 5th, 2021, @HomerSimpson was observed to perform to a very good standard. This was evidenced by his leadership during a fire drill, guiding his team to safety and ensuring that all necessary procedures were followed. His actions show #leadership #teamcoordination #safetyconsciousness. On May 22nd, 2021, @HomerSimpson was observed to perform to a satisfactory standard. This was evidenced by his successful completion of a routine maintenance check on the cooling system, though he did require some prompting to remember certain procedures. His actions show #competence #teachable #attentiontodetail. On June 7th, 2021, @HomerSimpson was observed to perform to a poor standard. This was evidenced by his failure to report a leak in a coolant pipe, which caused damage to nearby equipment. His actions show #negligence #lackofresponsibility #safetyoversight. On July 15th, 2021, @HomerSimpson was observed to perform to a good standard. This was evidenced by his successful completion of a new training module on emergency response procedures. His actions show #willingnesstolearn #adaptability #safetyconsciousness. On August 9th, 2021, @HomerSimpson was observed to perform to a very good standard. This was evidenced by his coordination of a team to repair a malfunctioning steam valve, minimizing downtime and avoiding any safety hazards. His actions show #teamcoordination #problem-solving #efficiency. On September 27th, 2021, @HomerSimpson was observed to perform to a satisfactory standard. This was evidenced by his successful completion of a routine inspection of the turbine generators, though he did forget to record one measurement. His actions show #competence #attentiontodetail #teachable. On October 14th, 2021, @HomerSimpson was observed to perform to an excellent standard. This was evidenced by his quick response to a power outage in Sector 7G, restoring power and ensuring that critical systems remained operational. His actions show #resilience #problem-solving #safetyconsciousness. On May 3rd @HomerSimpson was observed to perform to a satisfactory standard. This was evidenced by his willingness to work overtime to assist with the cleanup of the oil spill. His actions show #dedication and #cooperativeness. On May 11th @HomerSimpson was observed to perform to a poor standard. This was evidenced by his careless handling of nuclear waste, which resulted in a spill that contaminated the town's water supply. His actions show #recklessness and #carelessness. On May 27th @HomerSimpson was observed to perform to a poor standard. This was evidenced by his lack of concern for the safety of his fellow workers when he removed safety equipment in order to increase his productivity. His actions show #irresponsibility and #selfishness. On June 3rd @HomerSimpson was observed to perform to a satisfactory standard. This was evidenced by his ability to work effectively under pressure when the plant's emergency systems were activated. His actions show #calmness and #levelheadedness. On June 9th @HomerSimpson was observed to perform to a good standard. This was evidenced by his creative solution to the plant's budget problems, which involved turning off unnecessary equipment. His actions show #innovation and #costconsciousness. On June 16th @HomerSimpson was observed to perform to a very good standard. This was evidenced by his success in negotiating a union contract that was fair to both the workers and the company. His actions show #diplomacy and #negotiation skills. On June 23rd @HomerSimpson was observed to perform to a poor standard. This was evidenced by his careless use of the company car, which resulted in damage to both the car and the property of others. His actions show #carelessness and #negligence. On June 29th @HomerSimpson was observed to perform to a satisfactory standard. This was evidenced by his willingness to work on a holiday in order to assist with an important project. His actions show #dedication and #teamwork. On August 1st, while filling in for Smithers, @HomerSimpson was observed to perform to a very good standard. This was evidenced by his organization of Mr. Burns' schedule and preparation of his meals. His actions show #responsibility, #efficiency, and #attentiontodetail. On August 3rd, @HomerSimpson was observed to perform to a satisfactory standard. This was evidenced by his handling of Mr. Burns' incoming mail and scheduling of appointments. His actions show #competence and #accuracy, but there is room for improvement. On August 7th, @HomerSimpson was observed to perform to a poor standard. This was evidenced by his mishandling of Mr. Burns' laundry, resulting in several ruined garments. His actions show #carelessness and #inattention. On August 10th, @HomerSimpson was observed to perform to a very good standard. This was evidenced by his creative solution to a scheduling conflict, allowing Mr. Burns to attend both a charity event and a business meeting. His actions show #resourcefulness and #innovation. On August 15th, @HomerSimpson was observed to perform to a satisfactory standard. This was evidenced by his coordination of Mr. Burns' transportation for the day. His actions show #adequacy and #dependability, but once again, there is room for improvement. On August 18th, @HomerSimpson was observed to perform to a good standard. This was evidenced by his successful negotiation of a contract with a new supplier, resulting in cost savings for the company. His actions show #assertiveness and #businesssavvy. On August 22nd, @HomerSimpson was observed to perform to a very good standard. This was evidenced by his management of Mr. Burns' finances, including payment of bills and tracking of expenses. His actions show #financialacumen and #thoroughness. On August 25th, @HomerSimpson was observed to perform to a poor standard. This was evidenced by his forgetting to inform Mr. Burns of an important meeting, resulting in a missed opportunity for the company. His actions show #forgetfulness and #lackofattention. On August 28th, @HomerSimpson was observed to perform to a good standard. This was evidenced by his troubleshooting of a technical issue with the office equipment, avoiding a costly repair bill. His actions show #technicalskill and #problem-solving. On August 31st, @HomerSimpson was observed to perform to a satisfactory standard. This was evidenced by his handling of Mr. Burns' correspondence and phone calls for the day. His actions show #mediocrity and #routine, but no major mistakes were made.\n"
          ]
        }
      ]
    },
    {
      "cell_type": "code",
      "source": [
        "len(t5_prepared_Text)"
      ],
      "metadata": {
        "colab": {
          "base_uri": "https://localhost:8080/"
        },
        "id": "EAiqXSmLUkNK",
        "outputId": "a4579f80-7cfb-478b-fd8c-db6b0ce5215d"
      },
      "execution_count": 81,
      "outputs": [
        {
          "output_type": "execute_result",
          "data": {
            "text/plain": [
              "7312"
            ]
          },
          "metadata": {},
          "execution_count": 81
        }
      ]
    },
    {
      "cell_type": "markdown",
      "source": [
        "# Summarize\n",
        "Generate summary text given preprocessed input text containing a set of reports for a given employee."
      ],
      "metadata": {
        "id": "rPA_hObYBvaJ"
      }
    },
    {
      "cell_type": "code",
      "source": [
        "# summmarize \n",
        "summary_ids = model.generate(tokenized_text,\n",
        "                                    num_beams=4,\n",
        "                                    no_repeat_ngram_size=2,\n",
        "                                    min_length=30,\n",
        "                                    max_length=1000,\n",
        "                                    early_stopping=True)\n",
        "\n",
        "output = tokenizer.decode(summary_ids[0], skip_special_tokens=True)\n",
        "\n",
        "print (\"\\n\\nSummarized text: \\n\",output)"
      ],
      "metadata": {
        "colab": {
          "base_uri": "https://localhost:8080/"
        },
        "id": "V_g0RR0HKu5Y",
        "outputId": "bdfecfe7-3228-4458-b324-9d2748de18d8"
      },
      "execution_count": 85,
      "outputs": [
        {
          "output_type": "stream",
          "name": "stdout",
          "text": [
            "\n",
            "\n",
            "Summarized text: \n",
            " @HomerSimpson was observed to perform to a satisfactory standard. this was evidenced by his failure to properly label hazardous waste containers in the storage room, leading to safety hazard. his actions show #resilience #problem-solving #safetyoversight.\n"
          ]
        }
      ]
    }
  ]
}