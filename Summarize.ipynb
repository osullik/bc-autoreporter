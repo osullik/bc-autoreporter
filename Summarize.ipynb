{
  "nbformat": 4,
  "nbformat_minor": 0,
  "metadata": {
    "colab": {
      "provenance": [],
      "authorship_tag": "ABX9TyN5dLX7tbgzhuBbLVxkOMm8",
      "include_colab_link": true
    },
    "kernelspec": {
      "name": "python3",
      "display_name": "Python 3"
    },
    "language_info": {
      "name": "python"
    },
    "accelerator": "GPU",
    "gpuClass": "standard"
  },
  "cells": [
    {
      "cell_type": "markdown",
      "metadata": {
        "id": "view-in-github",
        "colab_type": "text"
      },
      "source": [
        "<a href=\"https://colab.research.google.com/github/osullik/bc-autoreporter/blob/main/Summarize.ipynb\" target=\"_parent\"><img src=\"https://colab.research.google.com/assets/colab-badge.svg\" alt=\"Open In Colab\"/></a>"
      ]
    },
    {
      "cell_type": "markdown",
      "source": [
        "# Imports"
      ],
      "metadata": {
        "id": "-If8c_sOCKoA"
      }
    },
    {
      "cell_type": "code",
      "source": [
        "!pip install sentencepiece"
      ],
      "metadata": {
        "colab": {
          "base_uri": "https://localhost:8080/"
        },
        "id": "kiYc1tsC_wYi",
        "outputId": "5178c982-bf33-4813-e56e-e07b5a220b82"
      },
      "execution_count": 1,
      "outputs": [
        {
          "output_type": "stream",
          "name": "stdout",
          "text": [
            "Looking in indexes: https://pypi.org/simple, https://us-python.pkg.dev/colab-wheels/public/simple/\n",
            "Requirement already satisfied: sentencepiece in /usr/local/lib/python3.9/dist-packages (0.1.97)\n"
          ]
        }
      ]
    },
    {
      "cell_type": "code",
      "source": [
        "!pip install transformers"
      ],
      "metadata": {
        "colab": {
          "base_uri": "https://localhost:8080/"
        },
        "id": "LewhsLbe_PRD",
        "outputId": "3016dd10-23bf-4edd-e589-d629bd9d9b22"
      },
      "execution_count": 2,
      "outputs": [
        {
          "output_type": "stream",
          "name": "stdout",
          "text": [
            "Looking in indexes: https://pypi.org/simple, https://us-python.pkg.dev/colab-wheels/public/simple/\n",
            "Requirement already satisfied: transformers in /usr/local/lib/python3.9/dist-packages (4.27.4)\n",
            "Requirement already satisfied: tqdm>=4.27 in /usr/local/lib/python3.9/dist-packages (from transformers) (4.65.0)\n",
            "Requirement already satisfied: packaging>=20.0 in /usr/local/lib/python3.9/dist-packages (from transformers) (23.0)\n",
            "Requirement already satisfied: requests in /usr/local/lib/python3.9/dist-packages (from transformers) (2.27.1)\n",
            "Requirement already satisfied: pyyaml>=5.1 in /usr/local/lib/python3.9/dist-packages (from transformers) (6.0)\n",
            "Requirement already satisfied: filelock in /usr/local/lib/python3.9/dist-packages (from transformers) (3.10.7)\n",
            "Requirement already satisfied: tokenizers!=0.11.3,<0.14,>=0.11.1 in /usr/local/lib/python3.9/dist-packages (from transformers) (0.13.3)\n",
            "Requirement already satisfied: huggingface-hub<1.0,>=0.11.0 in /usr/local/lib/python3.9/dist-packages (from transformers) (0.13.4)\n",
            "Requirement already satisfied: regex!=2019.12.17 in /usr/local/lib/python3.9/dist-packages (from transformers) (2022.10.31)\n",
            "Requirement already satisfied: numpy>=1.17 in /usr/local/lib/python3.9/dist-packages (from transformers) (1.22.4)\n",
            "Requirement already satisfied: typing-extensions>=3.7.4.3 in /usr/local/lib/python3.9/dist-packages (from huggingface-hub<1.0,>=0.11.0->transformers) (4.5.0)\n",
            "Requirement already satisfied: idna<4,>=2.5 in /usr/local/lib/python3.9/dist-packages (from requests->transformers) (3.4)\n",
            "Requirement already satisfied: urllib3<1.27,>=1.21.1 in /usr/local/lib/python3.9/dist-packages (from requests->transformers) (1.26.15)\n",
            "Requirement already satisfied: certifi>=2017.4.17 in /usr/local/lib/python3.9/dist-packages (from requests->transformers) (2022.12.7)\n",
            "Requirement already satisfied: charset-normalizer~=2.0.0 in /usr/local/lib/python3.9/dist-packages (from requests->transformers) (2.0.12)\n"
          ]
        }
      ]
    },
    {
      "cell_type": "code",
      "execution_count": 3,
      "metadata": {
        "colab": {
          "base_uri": "https://localhost:8080/"
        },
        "id": "eg_5OL4q-56M",
        "outputId": "93b917cb-37c3-4b34-8724-b1677f95eabf"
      },
      "outputs": [
        {
          "output_type": "stream",
          "name": "stderr",
          "text": [
            "[nltk_data] Downloading package punkt to /root/nltk_data...\n",
            "[nltk_data]   Package punkt is already up-to-date!\n"
          ]
        },
        {
          "output_type": "execute_result",
          "data": {
            "text/plain": [
              "True"
            ]
          },
          "metadata": {},
          "execution_count": 3
        }
      ],
      "source": [
        "from transformers import T5Tokenizer, T5Config, T5ForConditionalGeneration\n",
        "import nltk\n",
        "nltk.download('punkt')"
      ]
    },
    {
      "cell_type": "code",
      "source": [
        "from transformers import BartTokenizer, BartForConditionalGeneration"
      ],
      "metadata": {
        "id": "HWyV_lccFPK7"
      },
      "execution_count": 4,
      "outputs": []
    },
    {
      "cell_type": "code",
      "source": [
        "import torch\n",
        "\n",
        "device = torch.device(\"cpu\")\n",
        "\n",
        "if torch.cuda.is_available():\n",
        "   print(\"Training on GPU\")\n",
        "   device = torch.device(\"cuda:0\")"
      ],
      "metadata": {
        "colab": {
          "base_uri": "https://localhost:8080/"
        },
        "id": "S3Wojs_cVXZd",
        "outputId": "46f52fb8-a559-4b4a-b063-e111212fa178"
      },
      "execution_count": 5,
      "outputs": [
        {
          "output_type": "stream",
          "name": "stdout",
          "text": [
            "Training on GPU\n"
          ]
        }
      ]
    },
    {
      "cell_type": "code",
      "source": [
        "import random\n",
        "import re"
      ],
      "metadata": {
        "id": "bx0uUfQt4zJh"
      },
      "execution_count": 6,
      "outputs": []
    },
    {
      "cell_type": "markdown",
      "source": [
        "# Read in data\n",
        "Assume each set of evaluations corresponds to the same employee. Different employees will be read in separately and run through the model separately to generate per-employee summaries."
      ],
      "metadata": {
        "id": "zqWP-HHWCN8O"
      }
    },
    {
      "cell_type": "code",
      "source": [
        "# Gather data to summarize\n",
        "original_text = \"Junk foods taste good that’s why it is mostly liked by everyone of any age group especially kids and school going children. They generally ask for the junk food daily because they have been trend so by their parents from the childhood. They never have been discussed by their parents about the harmful effects of junk foods over health. According to the research by scientists, it has been found that junk foods have negative effects on the health in many ways. They are generally fried food found in the market in the packets. They become high in calories, high in cholesterol, low in healthy nutrients, high in sodium mineral, high in sugar, starch, unhealthy fat, lack of protein and lack of dietary fibers. Processed and junk foods are the means of rapid and unhealthy weight gain and negatively impact the whole body throughout the life. It makes able a person to gain excessive weight which is called as obesity. Junk foods tastes good and looks good however do not fulfil the healthy calorie requirement of the body. Some of the foods like french fries, fried foods, pizza, burgers, candy, soft drinks, baked goods, ice cream, cookies, etc are the example of high-sugar and high-fat containing foods. It is found according to the Centres for Disease Control and Prevention that Kids and children eating junk food are more prone to the type-2 diabetes. In type-2 diabetes our body become unable to regulate blood sugar level. Risk of getting this disease is increasing as one become more obese or overweight. It increases the risk of kidney failure. Eating junk food daily lead us to the nutritional deficiencies in the body because it is lack of essential nutrients, vitamins, iron, minerals and dietary fibers. It increases risk of cardiovascular diseases because it is rich in saturated fat, sodium and bad cholesterol. High sodium and bad cholesterol diet increases blood pressure and overloads the heart functioning. One who like junk food develop more risk to put on extra weight and become fatter and unhealthier. Junk foods contain high level carbohydrate which spike blood sugar level and make person more lethargic, sleepy and less active and alert. Reflexes and senses of the people eating this food become dull day by day thus they live more sedentary life. Junk foods are the source of constipation and other disease like diabetes, heart ailments, clogged arteries, heart attack, strokes, etc because of being poor in nutrition. Junk food is the easiest way to gain unhealthy weight. The amount of fats and sugar in the food makes you gain weight rapidly. However, this is not a healthy weight. It is more of fats and cholesterol which will have a harmful impact on your health. Junk food is also one of the main reasons for the increase in obesity nowadays.This food only looks and tastes good, other than that, it has no positive points. The amount of calorie your body requires to stay fit is not fulfilled by this food. For instance, foods like French fries, burgers, candy, and cookies, all have high amounts of sugar and fats. Therefore, this can result in long-term illnesses like diabetes and high blood pressure. This may also result in kidney failure. Above all, you can get various nutritional deficiencies when you don’t consume the essential nutrients, vitamins, minerals and more. You become prone to cardiovascular diseases due to the consumption of bad cholesterol and fat plus sodium. In other words, all this interferes with the functioning of your heart. Furthermore, junk food contains a higher level of carbohydrates. It will instantly spike your blood sugar levels. This will result in lethargy, inactiveness, and sleepiness. A person reflex becomes dull overtime and they lead an inactive life. To make things worse, junk food also clogs your arteries and increases the risk of a heart attack. Therefore, it must be avoided at the first instance to save your life from becoming ruined.The main problem with junk food is that people don’t realize its ill effects now. When the time comes, it is too late. Most importantly, the issue is that it does not impact you instantly. It works on your overtime; you will face the consequences sooner or later. Thus, it is better to stop now.You can avoid junk food by encouraging your children from an early age to eat green vegetables. Their taste buds must be developed as such that they find healthy food tasty. Moreover, try to mix things up. Do not serve the same green vegetable daily in the same style. Incorporate different types of healthy food in their diet following different recipes. This will help them to try foods at home rather than being attracted to junk food.In short, do not deprive them completely of it as that will not help. Children will find one way or the other to have it. Make sure you give them junk food in limited quantities and at healthy periods of time. \""
      ],
      "metadata": {
        "id": "BhP0CdwC_Dcr"
      },
      "execution_count": 6,
      "outputs": []
    },
    {
      "cell_type": "code",
      "source": [
        "original_text1 = \"On January 15th, @WaylonSmithers was observed to perform to an excellent standard. This was evidenced by his meticulous preparation and coordination of a company-wide charity event, ensuring its success. His actions show #meticulousness and #precision.\"\n",
        "original_text2 = \"On April 10th, @WaylonSmithers was observed to perform to an excellent standard. This was evidenced by his exceptional leadership and direction of a complex merger between two companies, ensuring its success. His actions show #leadership and #vision.\"\n",
        "original_text3 = \"On July 4th, @WaylonSmithers was observed to perform to an excellent standard. This was evidenced by his unwavering dedication to perfecting the design of a new product line, ensuring its success in the market. His actions show #dedication and #discipline.\"\n",
        "original_text4 = \"On October 31st, @WaylonSmithers was observed to perform to an excellent standard. This was evidenced by his outstanding initiative in organizing a successful product launch event, garnering media attention and generating high sales. His actions show #creativity and #organizationalSkills.\""
      ],
      "metadata": {
        "id": "qkGAHv1BC9jW"
      },
      "execution_count": 7,
      "outputs": []
    },
    {
      "cell_type": "code",
      "source": [
        "original_text = original_text1 + ' ' + original_text2 + ' ' + original_text3 + ' ' + original_text4\n",
        "original_text"
      ],
      "metadata": {
        "colab": {
          "base_uri": "https://localhost:8080/",
          "height": 189
        },
        "id": "BTfsqluODeO5",
        "outputId": "565d77db-3eed-4ecc-e115-710f8ba8726e"
      },
      "execution_count": 6,
      "outputs": [
        {
          "output_type": "error",
          "ename": "NameError",
          "evalue": "ignored",
          "traceback": [
            "\u001b[0;31m---------------------------------------------------------------------------\u001b[0m",
            "\u001b[0;31mNameError\u001b[0m                                 Traceback (most recent call last)",
            "\u001b[0;32m<ipython-input-6-d1d4352673bb>\u001b[0m in \u001b[0;36m<cell line: 1>\u001b[0;34m()\u001b[0m\n\u001b[0;32m----> 1\u001b[0;31m \u001b[0moriginal_text\u001b[0m \u001b[0;34m=\u001b[0m \u001b[0moriginal_text1\u001b[0m \u001b[0;34m+\u001b[0m \u001b[0;34m' '\u001b[0m \u001b[0;34m+\u001b[0m \u001b[0moriginal_text2\u001b[0m \u001b[0;34m+\u001b[0m \u001b[0;34m' '\u001b[0m \u001b[0;34m+\u001b[0m \u001b[0moriginal_text3\u001b[0m \u001b[0;34m+\u001b[0m \u001b[0;34m' '\u001b[0m \u001b[0;34m+\u001b[0m \u001b[0moriginal_text4\u001b[0m\u001b[0;34m\u001b[0m\u001b[0;34m\u001b[0m\u001b[0m\n\u001b[0m\u001b[1;32m      2\u001b[0m \u001b[0moriginal_text\u001b[0m\u001b[0;34m\u001b[0m\u001b[0;34m\u001b[0m\u001b[0m\n",
            "\u001b[0;31mNameError\u001b[0m: name 'original_text1' is not defined"
          ]
        }
      ]
    },
    {
      "cell_type": "code",
      "source": [
        "original_text = \"On January 15th, 2021, @HomerSimpson was observed to perform to a satisfactory standard. This was evidenced by his successful completion of a routine safety check on Reactor 4. His actions show #competence #attentiontodetail #safetyconsciousness. On February 2nd, 2021, @HomerSimpson was observed to perform to a poor standard. This was evidenced by his failure to properly label hazardous waste containers in the storage room, leading to a safety hazard. His actions show #carelessness #lackofattention #safetyoversight. On March 12th, 2021, @HomerSimpson was observed to perform to an excellent standard. This was evidenced by his quick thinking and calm demeanor during an unexpected power surge in the control room. His actions show #resilience #problem-solving #teamwork.On April 5th, 2021, @HomerSimpson was observed to perform to a very good standard. This was evidenced by his leadership during a fire drill, guiding his team to safety and ensuring that all necessary procedures were followed. His actions show #leadership #teamcoordination #safetyconsciousness. On May 22nd, 2021, @HomerSimpson was observed to perform to a satisfactory standard. This was evidenced by his successful completion of a routine maintenance check on the cooling system, though he did require some prompting to remember certain procedures. His actions show #competence #teachable #attentiontodetail. On June 7th, 2021, @HomerSimpson was observed to perform to a poor standard. This was evidenced by his failure to report a leak in a coolant pipe, which caused damage to nearby equipment. His actions show #negligence #lackofresponsibility #safetyoversight. On July 15th, 2021, @HomerSimpson was observed to perform to a good standard. This was evidenced by his successful completion of a new training module on emergency response procedures. His actions show #willingnesstolearn #adaptability #safetyconsciousness. On August 9th, 2021, @HomerSimpson was observed to perform to a very good standard. This was evidenced by his coordination of a team to repair a malfunctioning steam valve, minimizing downtime and avoiding any safety hazards. His actions show #teamcoordination #problem-solving #efficiency. On September 27th, 2021, @HomerSimpson was observed to perform to a satisfactory standard. This was evidenced by his successful completion of a routine inspection of the turbine generators, though he did forget to record one measurement. His actions show #competence #attentiontodetail #teachable. On October 14th, 2021, @HomerSimpson was observed to perform to an excellent standard. This was evidenced by his quick response to a power outage in Sector 7G, restoring power and ensuring that critical systems remained operational. His actions show #resilience #problem-solving #safetyconsciousness. On May 3rd @HomerSimpson was observed to perform to a satisfactory standard. This was evidenced by his willingness to work overtime to assist with the cleanup of the oil spill. His actions show #dedication and #cooperativeness. On May 11th @HomerSimpson was observed to perform to a poor standard. This was evidenced by his careless handling of nuclear waste, which resulted in a spill that contaminated the town's water supply. His actions show #recklessness and #carelessness. On May 27th @HomerSimpson was observed to perform to a poor standard. This was evidenced by his lack of concern for the safety of his fellow workers when he removed safety equipment in order to increase his productivity. His actions show #irresponsibility and #selfishness. On June 3rd @HomerSimpson was observed to perform to a satisfactory standard. This was evidenced by his ability to work effectively under pressure when the plant's emergency systems were activated. His actions show #calmness and #levelheadedness. On June 9th @HomerSimpson was observed to perform to a good standard. This was evidenced by his creative solution to the plant's budget problems, which involved turning off unnecessary equipment. His actions show #innovation and #costconsciousness. On June 16th @HomerSimpson was observed to perform to a very good standard. This was evidenced by his success in negotiating a union contract that was fair to both the workers and the company. His actions show #diplomacy and #negotiation skills. On June 23rd @HomerSimpson was observed to perform to a poor standard. This was evidenced by his careless use of the company car, which resulted in damage to both the car and the property of others. His actions show #carelessness and #negligence. On June 29th @HomerSimpson was observed to perform to a satisfactory standard. This was evidenced by his willingness to work on a holiday in order to assist with an important project. His actions show #dedication and #teamwork. On August 1st, while filling in for Smithers, @HomerSimpson was observed to perform to a very good standard. This was evidenced by his organization of Mr. Burns' schedule and preparation of his meals. His actions show #responsibility, #efficiency, and #attentiontodetail. On August 3rd, @HomerSimpson was observed to perform to a satisfactory standard. This was evidenced by his handling of Mr. Burns' incoming mail and scheduling of appointments. His actions show #competence and #accuracy, but there is room for improvement. On August 7th, @HomerSimpson was observed to perform to a poor standard. This was evidenced by his mishandling of Mr. Burns' laundry, resulting in several ruined garments. His actions show #carelessness and #inattention. On August 10th, @HomerSimpson was observed to perform to a very good standard. This was evidenced by his creative solution to a scheduling conflict, allowing Mr. Burns to attend both a charity event and a business meeting. His actions show #resourcefulness and #innovation. On August 15th, @HomerSimpson was observed to perform to a satisfactory standard. This was evidenced by his coordination of Mr. Burns' transportation for the day. His actions show #adequacy and #dependability, but once again, there is room for improvement. On August 18th, @HomerSimpson was observed to perform to a good standard. This was evidenced by his successful negotiation of a contract with a new supplier, resulting in cost savings for the company. His actions show #assertiveness and #businesssavvy. On August 22nd, @HomerSimpson was observed to perform to a very good standard. This was evidenced by his management of Mr. Burns' finances, including payment of bills and tracking of expenses. His actions show #financialacumen and #thoroughness. On August 25th, @HomerSimpson was observed to perform to a poor standard. This was evidenced by his forgetting to inform Mr. Burns of an important meeting, resulting in a missed opportunity for the company. His actions show #forgetfulness and #lackofattention. On August 28th, @HomerSimpson was observed to perform to a good standard. This was evidenced by his troubleshooting of a technical issue with the office equipment, avoiding a costly repair bill. His actions show #technicalskill and #problem-solving. On August 31st, @HomerSimpson was observed to perform to a satisfactory standard. This was evidenced by his handling of Mr. Burns' correspondence and phone calls for the day. His actions show #mediocrity and #routine, but no major mistakes were made.\""
      ],
      "metadata": {
        "id": "5Dl_Dg5SYaBR"
      },
      "execution_count": 7,
      "outputs": []
    },
    {
      "cell_type": "markdown",
      "source": [
        "# Preprocessing Function"
      ],
      "metadata": {
        "id": "5FLwC_4ZCZB5"
      }
    },
    {
      "cell_type": "code",
      "source": [
        "def clean_text(text):\n",
        "    text = re.sub(r\"@[A-Za-z0-9]+\", ' ', text)\n",
        "    text = re.sub(r\"https?://[A-Za-z0-9./]+\", ' ', text)\n",
        "    text = re.sub(r\"[^a-zA-z.!?'0-9]\", ' ', text)\n",
        "    text = re.sub('\\t', ' ', text)\n",
        "    text = re.sub(r\" +\", ' ', text)\n",
        "    return text"
      ],
      "metadata": {
        "id": "rCs7NNrshVYo"
      },
      "execution_count": 8,
      "outputs": []
    },
    {
      "cell_type": "code",
      "source": [
        "# generate chunks of text \\ sentences <= 512 tokens\n",
        "def nest_sentences(document):\n",
        "  nested = []\n",
        "  sent = []\n",
        "  length = 0\n",
        "  for sentence in nltk.sent_tokenize(document):\n",
        "    length += len(sentence)\n",
        "    if length < 1024:\n",
        "      sent.append(sentence)\n",
        "    else:\n",
        "      nested.append(sent)\n",
        "      sent = []\n",
        "      length = 0\n",
        "\n",
        "  if sent:\n",
        "    random.shuffle(sent)\n",
        "    result = ''.join(sent)\n",
        "    nested.append(result)\n",
        "  return nested"
      ],
      "metadata": {
        "id": "vi2qDgFK0MWt"
      },
      "execution_count": 27,
      "outputs": []
    },
    {
      "cell_type": "code",
      "source": [
        "# generate chunks of text \\ sentences <= 512 tokens\n",
        "def shuffle_sentences(document):\n",
        "  x = document.split('.')\n",
        "  random.shuffle(x)\n",
        "  shuffled = ' '.join(x)\n",
        "  return \"summarize: \" + shuffled "
      ],
      "metadata": {
        "id": "64PikuZgMzRQ"
      },
      "execution_count": 13,
      "outputs": []
    },
    {
      "cell_type": "code",
      "source": [
        "shuffle_sentences(original_text)"
      ],
      "metadata": {
        "colab": {
          "base_uri": "https://localhost:8080/",
          "height": 109
        },
        "id": "36a6HIW7YyJ5",
        "outputId": "34868f93-3f81-4419-8c4e-bfa06266b772"
      },
      "execution_count": 14,
      "outputs": [
        {
          "output_type": "execute_result",
          "data": {
            "text/plain": [
              "\"summarize:  This was evidenced by his quick thinking and calm demeanor during an unexpected power surge in the control room  Burns' finances, including payment of bills and tracking of expenses  This was evidenced by his leadership during a fire drill, guiding his team to safety and ensuring that all necessary procedures were followed  Burns' laundry, resulting in several ruined garments  On July 15th, 2021, @HomerSimpson was observed to perform to a good standard  On September 27th, 2021, @HomerSimpson was observed to perform to a satisfactory standard  This was evidenced by his mishandling of Mr  On May 27th @HomerSimpson was observed to perform to a poor standard  Burns' schedule and preparation of his meals  On October 14th, 2021, @HomerSimpson was observed to perform to an excellent standard  Burns of an important meeting, resulting in a missed opportunity for the company  On August 7th, @HomerSimpson was observed to perform to a poor standard  This was evidenced by his coordination of a team to repair a malfunctioning steam valve, minimizing downtime and avoiding any safety hazards  This was evidenced by his successful completion of a new training module on emergency response procedures  This was evidenced by his ability to work effectively under pressure when the plant's emergency systems were activated  His actions show #dedication and #teamwork  His actions show #irresponsibility and #selfishness   This was evidenced by his careless handling of nuclear waste, which resulted in a spill that contaminated the town's water supply  His actions show #carelessness and #inattention  His actions show #negligence #lackofresponsibility #safetyoversight  This was evidenced by his handling of Mr  This was evidenced by his organization of Mr  This was evidenced by his willingness to work on a holiday in order to assist with an important project  His actions show #recklessness and #carelessness  His actions show #carelessness #lackofattention #safetyoversight  On June 23rd @HomerSimpson was observed to perform to a poor standard  On February 2nd, 2021, @HomerSimpson was observed to perform to a poor standard  His actions show #competence #attentiontodetail #teachable  This was evidenced by his creative solution to the plant's budget problems, which involved turning off unnecessary equipment  This was evidenced by his successful completion of a routine safety check on Reactor 4  On August 18th, @HomerSimpson was observed to perform to a good standard  This was evidenced by his coordination of Mr  On August 22nd, @HomerSimpson was observed to perform to a very good standard  This was evidenced by his lack of concern for the safety of his fellow workers when he removed safety equipment in order to increase his productivity  His actions show #dedication and #cooperativeness  On August 1st, while filling in for Smithers, @HomerSimpson was observed to perform to a very good standard  On June 29th @HomerSimpson was observed to perform to a satisfactory standard On April 5th, 2021, @HomerSimpson was observed to perform to a very good standard  This was evidenced by his successful negotiation of a contract with a new supplier, resulting in cost savings for the company  On June 16th @HomerSimpson was observed to perform to a very good standard  On March 12th, 2021, @HomerSimpson was observed to perform to an excellent standard  On August 31st, @HomerSimpson was observed to perform to a satisfactory standard  This was evidenced by his failure to properly label hazardous waste containers in the storage room, leading to a safety hazard  This was evidenced by his willingness to work overtime to assist with the cleanup of the oil spill  His actions show #diplomacy and #negotiation skills  On June 9th @HomerSimpson was observed to perform to a good standard  This was evidenced by his creative solution to a scheduling conflict, allowing Mr  Burns' transportation for the day  His actions show #leadership #teamcoordination #safetyconsciousness  His actions show #competence #teachable #attentiontodetail  This was evidenced by his failure to report a leak in a coolant pipe, which caused damage to nearby equipment  His actions show #innovation and #costconsciousness  His actions show #adequacy and #dependability, but once again, there is room for improvement  His actions show #calmness and #levelheadedness  This was evidenced by his forgetting to inform Mr  On August 28th, @HomerSimpson was observed to perform to a good standard  Burns' correspondence and phone calls for the day  His actions show #responsibility, #efficiency, and #attentiontodetail  On August 25th, @HomerSimpson was observed to perform to a poor standard  Burns to attend both a charity event and a business meeting  His actions show #carelessness and #negligence  On August 15th, @HomerSimpson was observed to perform to a satisfactory standard  His actions show #financialacumen and #thoroughness  His actions show #assertiveness and #businesssavvy  His actions show #resourcefulness and #innovation  On August 10th, @HomerSimpson was observed to perform to a very good standard  On August 9th, 2021, @HomerSimpson was observed to perform to a very good standard  This was evidenced by his quick response to a power outage in Sector 7G, restoring power and ensuring that critical systems remained operational  On May 22nd, 2021, @HomerSimpson was observed to perform to a satisfactory standard  On June 3rd @HomerSimpson was observed to perform to a satisfactory standard  His actions show #teamcoordination #problem-solving #efficiency  This was evidenced by his successful completion of a routine inspection of the turbine generators, though he did forget to record one measurement  This was evidenced by his troubleshooting of a technical issue with the office equipment, avoiding a costly repair bill  This was evidenced by his careless use of the company car, which resulted in damage to both the car and the property of others  On August 3rd, @HomerSimpson was observed to perform to a satisfactory standard  His actions show #competence and #accuracy, but there is room for improvement  His actions show #forgetfulness and #lackofattention On January 15th, 2021, @HomerSimpson was observed to perform to a satisfactory standard  His actions show #willingnesstolearn #adaptability #safetyconsciousness  This was evidenced by his success in negotiating a union contract that was fair to both the workers and the company  His actions show #technicalskill and #problem-solving  This was evidenced by his management of Mr  His actions show #resilience #problem-solving #safetyconsciousness  This was evidenced by his handling of Mr  His actions show #mediocrity and #routine, but no major mistakes were made  On June 7th, 2021, @HomerSimpson was observed to perform to a poor standard  His actions show #resilience #problem-solving #teamwork  On May 11th @HomerSimpson was observed to perform to a poor standard  On May 3rd @HomerSimpson was observed to perform to a satisfactory standard  This was evidenced by his successful completion of a routine maintenance check on the cooling system, though he did require some prompting to remember certain procedures  His actions show #competence #attentiontodetail #safetyconsciousness  Burns' incoming mail and scheduling of appointments\""
            ],
            "application/vnd.google.colaboratory.intrinsic+json": {
              "type": "string"
            }
          },
          "metadata": {},
          "execution_count": 14
        }
      ]
    },
    {
      "cell_type": "markdown",
      "source": [
        "# Summarization function"
      ],
      "metadata": {
        "id": "cAqGHVrU1Qzc"
      }
    },
    {
      "cell_type": "code",
      "source": [
        "# generate summary on text with <= 512 tokens\n",
        "def generate_summary_nested(nested_sentences, tokenizer, model):\n",
        "  summaries = []\n",
        "  for nested in nested_sentences:\n",
        "    print(nested)\n",
        "    input_tokenized = tokenizer.encode(' '.join(nested), truncation=True, return_tensors='pt')\n",
        "    input_tokenized = input_tokenized.to(device)\n",
        "    summary_ids = model.to(device).generate(input_tokenized,\n",
        "                                            num_beams=4,\n",
        "                                            no_repeat_ngram_size=2,\n",
        "                                            min_length=50,\n",
        "                                            max_length=500,\n",
        "                                            early_stopping=True)\n",
        "    output = [tokenizer.decode(g, skip_special_tokens=True, clean_up_tokenization_spaces=False) for g in summary_ids]\n",
        "    summaries.append(output)\n",
        "  summaries = [sentence for sublist in summaries for sentence in sublist]\n",
        "  return summaries"
      ],
      "metadata": {
        "id": "yaJDKnZZ0OCy"
      },
      "execution_count": 26,
      "outputs": []
    },
    {
      "cell_type": "code",
      "source": [
        "# generate summary on text with <= 512 tokens\n",
        "def generate_summary(sentences, tokenizer, model):\n",
        "  input_tokenized = tokenizer.encode(sentences, truncation=True, return_tensors='pt')\n",
        "  input_tokenized = input_tokenized.to(device)\n",
        "  summary_ids = model.to(device).generate(input_tokenized,\n",
        "                                          num_beams=4,\n",
        "                                          min_length=50,\n",
        "                                          max_length=1000,\n",
        "                                          early_stopping=True)\n",
        "  output = [tokenizer.decode(g, skip_special_tokens=True, clean_up_tokenization_spaces=False) for g in summary_ids]\n",
        "  return output"
      ],
      "metadata": {
        "id": "ky9F76QSns8Y"
      },
      "execution_count": 36,
      "outputs": []
    },
    {
      "cell_type": "code",
      "source": [
        "# from https://github.com/saarthdeshpande/book-summarizer/blob/master/model.py\n",
        "def generate_summary(text, tokenizer, model):\n",
        "    preprocess_text = text.strip().replace(\"\\n\", \"\")\n",
        "    t5_prepared_Text = \"summarize: \" + preprocess_text\n",
        "    tokenized_text = tokenizer.encode(t5_prepared_Text, truncation=True, return_tensors=\"pt\")\n",
        "    print(\"Num toks = \", len(preprocess_text))\n",
        "    tokenized_text = tokenized_text.to(device)\n",
        "\n",
        "    summary_ids = model.generate(tokenized_text,\n",
        "                                 num_beams=5,\n",
        "                                 no_repeat_ngram_size=2,\n",
        "                                 min_length=30,\n",
        "                                 max_length=96,\n",
        "                                 early_stopping=True)\n",
        "\n",
        "    output = tokenizer.decode(summary_ids[0], skip_special_tokens=True)\n",
        "    return output"
      ],
      "metadata": {
        "id": "KJy5K4A_rIFU"
      },
      "execution_count": 22,
      "outputs": []
    },
    {
      "cell_type": "markdown",
      "source": [
        "# Create Tokenizer\n",
        "Corresponding T5 tokenizer from Hugging Face library"
      ],
      "metadata": {
        "id": "uCCWc1NN1T-9"
      }
    },
    {
      "cell_type": "code",
      "source": [
        "# Instantiate the tokenizer \n",
        "##tokenizer = T5Tokenizer.from_pretrained('t5-small')\n",
        "tokenizer = BartTokenizer.from_pretrained('facebook/bart-large-cnn')\n",
        "print(tokenizer.model_max_length)"
      ],
      "metadata": {
        "colab": {
          "base_uri": "https://localhost:8080/"
        },
        "id": "dFb9azUO_dMC",
        "outputId": "f37ced54-6b1e-447d-c4c6-d618a9180e0b"
      },
      "execution_count": 16,
      "outputs": [
        {
          "output_type": "stream",
          "name": "stdout",
          "text": [
            "1024\n"
          ]
        }
      ]
    },
    {
      "cell_type": "code",
      "source": [
        "# # Concatenate the word \"summarize:\" to raw text to tell the model what task to perform on the input\n",
        "# preprocess_text = original_text.strip().replace(\"\\n\",\"\")\n",
        "# t5_prepared_Text = \"summarize: \"+preprocess_text\n",
        "# print (\"original text preprocessed: \\n\", preprocess_text)\n",
        "\n",
        "# tokenized_text = tokenizer.encode(t5_prepared_Text, return_tensors=\"pt\")"
      ],
      "metadata": {
        "id": "_FtvMUdW_hzw"
      },
      "execution_count": 7,
      "outputs": []
    },
    {
      "cell_type": "markdown",
      "source": [
        "# Create Model\n",
        "Pretrained T5 model from Hugging Face library. This is a generic model that can do translation, summarization, etc. We will pass it the 'summarize' command appended to the front of the input stream to trigger a summary output from the model.\n",
        "\n",
        "https://towardsdatascience.com/simple-abstractive-text-summarization-with-pretrained-t5-text-to-text-transfer-transformer-10f6d602c426 "
      ],
      "metadata": {
        "id": "7IuTZPbsCUE9"
      }
    },
    {
      "cell_type": "code",
      "source": [
        "# Instantiate the model \n",
        "##model = T5ForConditionalGeneration.from_pretrained('t5-small')\n",
        "model = BartForConditionalGeneration.from_pretrained('facebook/bart-large-cnn').to(device)"
      ],
      "metadata": {
        "id": "ftgOTCpECbph"
      },
      "execution_count": 17,
      "outputs": []
    },
    {
      "cell_type": "markdown",
      "source": [
        "# Summarize\n",
        "Generate summary text given preprocessed input text containing a set of reports for a given employee."
      ],
      "metadata": {
        "id": "rPA_hObYBvaJ"
      }
    },
    {
      "cell_type": "code",
      "source": [
        "# Preprocess text into chunks based on model max length\n",
        "cleaned_text = clean_text(original_text)\n",
        "#shuffled_sentences = shuffle_sentences(cleaned_text)"
      ],
      "metadata": {
        "id": "9yMydWBW06Vo"
      },
      "execution_count": 12,
      "outputs": []
    },
    {
      "cell_type": "code",
      "source": [
        "#shuffled_sentences\n",
        "\"summarize: \" + original_text"
      ],
      "metadata": {
        "colab": {
          "base_uri": "https://localhost:8080/",
          "height": 109
        },
        "id": "Yy5v952Xhsqc",
        "outputId": "17372b78-451e-4614-ddda-4e026daec6e6"
      },
      "execution_count": 41,
      "outputs": [
        {
          "output_type": "execute_result",
          "data": {
            "text/plain": [
              "\"summarize: On January 15th, 2021, @HomerSimpson was observed to perform to a satisfactory standard. This was evidenced by his successful completion of a routine safety check on Reactor 4. His actions show #competence #attentiontodetail #safetyconsciousness. On February 2nd, 2021, @HomerSimpson was observed to perform to a poor standard. This was evidenced by his failure to properly label hazardous waste containers in the storage room, leading to a safety hazard. His actions show #carelessness #lackofattention #safetyoversight. On March 12th, 2021, @HomerSimpson was observed to perform to an excellent standard. This was evidenced by his quick thinking and calm demeanor during an unexpected power surge in the control room. His actions show #resilience #problem-solving #teamwork.On April 5th, 2021, @HomerSimpson was observed to perform to a very good standard. This was evidenced by his leadership during a fire drill, guiding his team to safety and ensuring that all necessary procedures were followed. His actions show #leadership #teamcoordination #safetyconsciousness. On May 22nd, 2021, @HomerSimpson was observed to perform to a satisfactory standard. This was evidenced by his successful completion of a routine maintenance check on the cooling system, though he did require some prompting to remember certain procedures. His actions show #competence #teachable #attentiontodetail. On June 7th, 2021, @HomerSimpson was observed to perform to a poor standard. This was evidenced by his failure to report a leak in a coolant pipe, which caused damage to nearby equipment. His actions show #negligence #lackofresponsibility #safetyoversight. On July 15th, 2021, @HomerSimpson was observed to perform to a good standard. This was evidenced by his successful completion of a new training module on emergency response procedures. His actions show #willingnesstolearn #adaptability #safetyconsciousness. On August 9th, 2021, @HomerSimpson was observed to perform to a very good standard. This was evidenced by his coordination of a team to repair a malfunctioning steam valve, minimizing downtime and avoiding any safety hazards. His actions show #teamcoordination #problem-solving #efficiency. On September 27th, 2021, @HomerSimpson was observed to perform to a satisfactory standard. This was evidenced by his successful completion of a routine inspection of the turbine generators, though he did forget to record one measurement. His actions show #competence #attentiontodetail #teachable. On October 14th, 2021, @HomerSimpson was observed to perform to an excellent standard. This was evidenced by his quick response to a power outage in Sector 7G, restoring power and ensuring that critical systems remained operational. His actions show #resilience #problem-solving #safetyconsciousness. On May 3rd @HomerSimpson was observed to perform to a satisfactory standard. This was evidenced by his willingness to work overtime to assist with the cleanup of the oil spill. His actions show #dedication and #cooperativeness. On May 11th @HomerSimpson was observed to perform to a poor standard. This was evidenced by his careless handling of nuclear waste, which resulted in a spill that contaminated the town's water supply. His actions show #recklessness and #carelessness. On May 27th @HomerSimpson was observed to perform to a poor standard. This was evidenced by his lack of concern for the safety of his fellow workers when he removed safety equipment in order to increase his productivity. His actions show #irresponsibility and #selfishness. On June 3rd @HomerSimpson was observed to perform to a satisfactory standard. This was evidenced by his ability to work effectively under pressure when the plant's emergency systems were activated. His actions show #calmness and #levelheadedness. On June 9th @HomerSimpson was observed to perform to a good standard. This was evidenced by his creative solution to the plant's budget problems, which involved turning off unnecessary equipment. His actions show #innovation and #costconsciousness. On June 16th @HomerSimpson was observed to perform to a very good standard. This was evidenced by his success in negotiating a union contract that was fair to both the workers and the company. His actions show #diplomacy and #negotiation skills. On June 23rd @HomerSimpson was observed to perform to a poor standard. This was evidenced by his careless use of the company car, which resulted in damage to both the car and the property of others. His actions show #carelessness and #negligence. On June 29th @HomerSimpson was observed to perform to a satisfactory standard. This was evidenced by his willingness to work on a holiday in order to assist with an important project. His actions show #dedication and #teamwork. On August 1st, while filling in for Smithers, @HomerSimpson was observed to perform to a very good standard. This was evidenced by his organization of Mr. Burns' schedule and preparation of his meals. His actions show #responsibility, #efficiency, and #attentiontodetail. On August 3rd, @HomerSimpson was observed to perform to a satisfactory standard. This was evidenced by his handling of Mr. Burns' incoming mail and scheduling of appointments. His actions show #competence and #accuracy, but there is room for improvement. On August 7th, @HomerSimpson was observed to perform to a poor standard. This was evidenced by his mishandling of Mr. Burns' laundry, resulting in several ruined garments. His actions show #carelessness and #inattention. On August 10th, @HomerSimpson was observed to perform to a very good standard. This was evidenced by his creative solution to a scheduling conflict, allowing Mr. Burns to attend both a charity event and a business meeting. His actions show #resourcefulness and #innovation. On August 15th, @HomerSimpson was observed to perform to a satisfactory standard. This was evidenced by his coordination of Mr. Burns' transportation for the day. His actions show #adequacy and #dependability, but once again, there is room for improvement. On August 18th, @HomerSimpson was observed to perform to a good standard. This was evidenced by his successful negotiation of a contract with a new supplier, resulting in cost savings for the company. His actions show #assertiveness and #businesssavvy. On August 22nd, @HomerSimpson was observed to perform to a very good standard. This was evidenced by his management of Mr. Burns' finances, including payment of bills and tracking of expenses. His actions show #financialacumen and #thoroughness. On August 25th, @HomerSimpson was observed to perform to a poor standard. This was evidenced by his forgetting to inform Mr. Burns of an important meeting, resulting in a missed opportunity for the company. His actions show #forgetfulness and #lackofattention. On August 28th, @HomerSimpson was observed to perform to a good standard. This was evidenced by his troubleshooting of a technical issue with the office equipment, avoiding a costly repair bill. His actions show #technicalskill and #problem-solving. On August 31st, @HomerSimpson was observed to perform to a satisfactory standard. This was evidenced by his handling of Mr. Burns' correspondence and phone calls for the day. His actions show #mediocrity and #routine, but no major mistakes were made.\""
            ],
            "application/vnd.google.colaboratory.intrinsic+json": {
              "type": "string"
            }
          },
          "metadata": {},
          "execution_count": 41
        }
      ]
    },
    {
      "cell_type": "code",
      "source": [
        "nested_ text = nest_sentences(original_text)\n",
        "nested_text"
      ],
      "metadata": {
        "id": "-s-tO0HyutXi"
      },
      "execution_count": null,
      "outputs": []
    },
    {
      "cell_type": "code",
      "source": [
        "# Summarize preprocessed text\n",
        "generate_summary(nested_text, tokenizer, model)"
      ],
      "metadata": {
        "colab": {
          "base_uri": "https://localhost:8080/",
          "height": 72
        },
        "id": "eNgyFksNXjwA",
        "outputId": "1950ed56-a1ff-4d72-b50c-944ecc664968"
      },
      "execution_count": 25,
      "outputs": [
        {
          "output_type": "stream",
          "name": "stdout",
          "text": [
            "Num toks =  7301\n"
          ]
        },
        {
          "output_type": "execute_result",
          "data": {
            "text/plain": [
              "'On January 15th, 2021, @HomerSimpson was observed to perform to a satisfactory standard. This was evidenced by his successful completion of a routine safety check on Reactor 4. His actions show #competence #attentiontodetail #safetyconsciousness.'"
            ],
            "application/vnd.google.colaboratory.intrinsic+json": {
              "type": "string"
            }
          },
          "metadata": {},
          "execution_count": 25
        }
      ]
    },
    {
      "cell_type": "code",
      "source": [
        "# Summarize preprocessed text\n",
        "#generate_summary(shuffled_sentences, tokenizer, model)"
      ],
      "metadata": {
        "id": "1D-A6eI1TM1r"
      },
      "execution_count": 24,
      "outputs": []
    },
    {
      "cell_type": "code",
      "source": [
        "shuffled_sentences"
      ],
      "metadata": {
        "colab": {
          "base_uri": "https://localhost:8080/"
        },
        "id": "Zdo_0p9S2_RA",
        "outputId": "8680bb99-3225-4100-b24b-eb839e7dac4d"
      },
      "execution_count": 20,
      "outputs": [
        {
          "output_type": "execute_result",
          "data": {
            "text/plain": [
              "[' This was evidenced by his quick thinking and calm demeanor during an unexpected power surge in the control room',\n",
              " ' On August 10th, @HomerSimpson was observed to perform to a very good standard',\n",
              " ' On August 18th, @HomerSimpson was observed to perform to a good standard',\n",
              " ' This was evidenced by his creative solution to a scheduling conflict, allowing Mr',\n",
              " 'On April 5th, 2021, @HomerSimpson was observed to perform to a very good standard',\n",
              " ' On February 2nd, 2021, @HomerSimpson was observed to perform to a poor standard',\n",
              " ' His actions show #responsibility, #efficiency, and #attentiontodetail',\n",
              " ' On August 9th, 2021, @HomerSimpson was observed to perform to a very good standard',\n",
              " ' This was evidenced by his successful completion of a new training module on emergency response procedures',\n",
              " ' On March 12th, 2021, @HomerSimpson was observed to perform to an excellent standard',\n",
              " ' His actions show #willingnesstolearn #adaptability #safetyconsciousness',\n",
              " ' This was evidenced by his success in negotiating a union contract that was fair to both the workers and the company',\n",
              " ' His actions show #competence #teachable #attentiontodetail',\n",
              " ' This was evidenced by his leadership during a fire drill, guiding his team to safety and ensuring that all necessary procedures were followed',\n",
              " ' On June 7th, 2021, @HomerSimpson was observed to perform to a poor standard',\n",
              " ' His actions show #recklessness and #carelessness',\n",
              " ' This was evidenced by his careless use of the company car, which resulted in damage to both the car and the property of others',\n",
              " ' His actions show #resilience #problem-solving #safetyconsciousness',\n",
              " ' His actions show #dedication and #cooperativeness',\n",
              " ' Burns of an important meeting, resulting in a missed opportunity for the company',\n",
              " ' His actions show #adequacy and #dependability, but once again, there is room for improvement',\n",
              " ' On May 27th @HomerSimpson was observed to perform to a poor standard',\n",
              " ' On August 15th, @HomerSimpson was observed to perform to a satisfactory standard',\n",
              " ' His actions show #competence #attentiontodetail #safetyconsciousness',\n",
              " ' This was evidenced by his forgetting to inform Mr',\n",
              " ' Burns to attend both a charity event and a business meeting',\n",
              " 'On January 15th, 2021, @HomerSimpson was observed to perform to a satisfactory standard',\n",
              " ' His actions show #mediocrity and #routine, but no major mistakes were made',\n",
              " ' This was evidenced by his handling of Mr',\n",
              " ' On August 1st, while filling in for Smithers, @HomerSimpson was observed to perform to a very good standard',\n",
              " '',\n",
              " ' On October 14th, 2021, @HomerSimpson was observed to perform to an excellent standard',\n",
              " ' His actions show #diplomacy and #negotiation skills',\n",
              " ' This was evidenced by his successful negotiation of a contract with a new supplier, resulting in cost savings for the company',\n",
              " ' This was evidenced by his successful completion of a routine safety check on Reactor 4',\n",
              " ' His actions show #negligence #lackofresponsibility #safetyoversight',\n",
              " ' On June 23rd @HomerSimpson was observed to perform to a poor standard',\n",
              " ' This was evidenced by his successful completion of a routine maintenance check on the cooling system, though he did require some prompting to remember certain procedures',\n",
              " ' This was evidenced by his coordination of Mr',\n",
              " ' This was evidenced by his willingness to work overtime to assist with the cleanup of the oil spill',\n",
              " ' His actions show #teamcoordination #problem-solving #efficiency',\n",
              " \" Burns' incoming mail and scheduling of appointments\",\n",
              " ' On May 3rd @HomerSimpson was observed to perform to a satisfactory standard',\n",
              " ' On May 22nd, 2021, @HomerSimpson was observed to perform to a satisfactory standard',\n",
              " ' On September 27th, 2021, @HomerSimpson was observed to perform to a satisfactory standard',\n",
              " ' His actions show #competence #attentiontodetail #teachable',\n",
              " ' His actions show #leadership #teamcoordination #safetyconsciousness',\n",
              " ' On August 3rd, @HomerSimpson was observed to perform to a satisfactory standard',\n",
              " ' This was evidenced by his troubleshooting of a technical issue with the office equipment, avoiding a costly repair bill',\n",
              " ' On August 7th, @HomerSimpson was observed to perform to a poor standard',\n",
              " ' His actions show #resourcefulness and #innovation',\n",
              " ' On June 3rd @HomerSimpson was observed to perform to a satisfactory standard',\n",
              " ' On May 11th @HomerSimpson was observed to perform to a poor standard',\n",
              " ' This was evidenced by his willingness to work on a holiday in order to assist with an important project',\n",
              " ' His actions show #forgetfulness and #lackofattention',\n",
              " ' On August 22nd, @HomerSimpson was observed to perform to a very good standard',\n",
              " ' This was evidenced by his quick response to a power outage in Sector 7G, restoring power and ensuring that critical systems remained operational',\n",
              " \" Burns' schedule and preparation of his meals\",\n",
              " ' This was evidenced by his failure to report a leak in a coolant pipe, which caused damage to nearby equipment',\n",
              " ' This was evidenced by his successful completion of a routine inspection of the turbine generators, though he did forget to record one measurement',\n",
              " \" Burns' laundry, resulting in several ruined garments\",\n",
              " ' His actions show #carelessness and #inattention',\n",
              " ' His actions show #carelessness #lackofattention #safetyoversight',\n",
              " ' His actions show #carelessness and #negligence',\n",
              " \" This was evidenced by his ability to work effectively under pressure when the plant's emergency systems were activated\",\n",
              " ' This was evidenced by his management of Mr',\n",
              " ' His actions show #assertiveness and #businesssavvy',\n",
              " ' His actions show #innovation and #costconsciousness',\n",
              " ' His actions show #calmness and #levelheadedness',\n",
              " ' On July 15th, 2021, @HomerSimpson was observed to perform to a good standard',\n",
              " ' This was evidenced by his coordination of a team to repair a malfunctioning steam valve, minimizing downtime and avoiding any safety hazards',\n",
              " ' On August 31st, @HomerSimpson was observed to perform to a satisfactory standard',\n",
              " ' This was evidenced by his lack of concern for the safety of his fellow workers when he removed safety equipment in order to increase his productivity',\n",
              " ' His actions show #technicalskill and #problem-solving',\n",
              " \" Burns' correspondence and phone calls for the day\",\n",
              " \" This was evidenced by his careless handling of nuclear waste, which resulted in a spill that contaminated the town's water supply\",\n",
              " ' On August 28th, @HomerSimpson was observed to perform to a good standard',\n",
              " ' His actions show #competence and #accuracy, but there is room for improvement',\n",
              " ' His actions show #irresponsibility and #selfishness',\n",
              " ' This was evidenced by his handling of Mr',\n",
              " ' His actions show #financialacumen and #thoroughness',\n",
              " ' This was evidenced by his organization of Mr',\n",
              " ' On June 9th @HomerSimpson was observed to perform to a good standard',\n",
              " ' This was evidenced by his failure to properly label hazardous waste containers in the storage room, leading to a safety hazard',\n",
              " ' On August 25th, @HomerSimpson was observed to perform to a poor standard',\n",
              " ' This was evidenced by his mishandling of Mr',\n",
              " ' On June 16th @HomerSimpson was observed to perform to a very good standard',\n",
              " ' His actions show #dedication and #teamwork',\n",
              " \" Burns' transportation for the day\",\n",
              " \" This was evidenced by his creative solution to the plant's budget problems, which involved turning off unnecessary equipment\",\n",
              " \" Burns' finances, including payment of bills and tracking of expenses\",\n",
              " ' On June 29th @HomerSimpson was observed to perform to a satisfactory standard',\n",
              " ' His actions show #resilience #problem-solving #teamwork']"
            ]
          },
          "metadata": {},
          "execution_count": 20
        }
      ]
    },
    {
      "cell_type": "code",
      "source": [
        "# # summmarize \n",
        "# summary_ids = model.generate(tokenized_text,\n",
        "#                                     num_beams=4,\n",
        "#                                     no_repeat_ngram_size=2,\n",
        "#                                     min_length=500,\n",
        "#                                     max_length=1000,\n",
        "#                                     early_stopping=True)\n",
        "\n",
        "# output = tokenizer.decode(summary_ids[0], skip_special_tokens=True)\n",
        "\n",
        "# print (\"\\n\\nSummarized text: \\n\",output)"
      ],
      "metadata": {
        "colab": {
          "base_uri": "https://localhost:8080/"
        },
        "id": "V_g0RR0HKu5Y",
        "outputId": "570516e1-f128-41ea-de90-7b497b0894d2"
      },
      "execution_count": 86,
      "outputs": [
        {
          "output_type": "stream",
          "name": "stdout",
          "text": [
            "\n",
            "\n",
            "Summarized text: \n",
            " @HomerSimpson was observed to perform to a satisfactory standard. this was evidenced by his failure to properly label hazardous waste containers in the storage room, leading to safety hazard. his actions show #resilience #problem-solving #safetyoversight. on may 27th, 2021, @homersimpedson performed to an excellent standard. he did forget to record one measurement, resulting in several ruined garments, and his efforts show'responsibility........................................ in dr st. pep'd o e w t y, the! &, in an un ned,,' ; i m com u.s. and re, his action show self-help, on august, at the end? raf was seen if the company's own – - and not to the safety of l', an alleged thoroughness / and #sys and the same : b p f, to his en, her, or the, that ’s to have c., #selfishness and/ or an, but.... to get his work despite wards vs the in his, \"the......... and... on g z x and other %, this â€” his own,......and..... and, of, just ten ng, with the work,#self — ­,’ ing ” and in, it’’, ‘so, was able to take h» his steps show, as   and. the #homed.home' his act, ( ) and on the other, not unless __, de-seas;;,;##e.; and also, [home] and \"rel...., some riots...#home,»;s' and this,\" ). ++ #co-work versus 0 based on his care whose quotquot!! ........ ] at q&m, work;self;home rescuing,\n"
          ]
        }
      ]
    }
  ]
}