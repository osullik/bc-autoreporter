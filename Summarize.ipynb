{
  "nbformat": 4,
  "nbformat_minor": 0,
  "metadata": {
    "colab": {
      "provenance": [],
      "authorship_tag": "ABX9TyNnXmglnCG080PyeLMJnnDv",
      "include_colab_link": true
    },
    "kernelspec": {
      "name": "python3",
      "display_name": "Python 3"
    },
    "language_info": {
      "name": "python"
    },
    "accelerator": "GPU",
    "gpuClass": "standard"
  },
  "cells": [
    {
      "cell_type": "markdown",
      "metadata": {
        "id": "view-in-github",
        "colab_type": "text"
      },
      "source": [
        "<a href=\"https://colab.research.google.com/github/osullik/bc-autoreporter/blob/main/Summarize.ipynb\" target=\"_parent\"><img src=\"https://colab.research.google.com/assets/colab-badge.svg\" alt=\"Open In Colab\"/></a>"
      ]
    },
    {
      "cell_type": "markdown",
      "source": [
        "# Imports"
      ],
      "metadata": {
        "id": "-If8c_sOCKoA"
      }
    },
    {
      "cell_type": "code",
      "source": [
        "!pip install sentencepiece\n",
        "!pip install transformers"
      ],
      "metadata": {
        "colab": {
          "base_uri": "https://localhost:8080/"
        },
        "id": "kiYc1tsC_wYi",
        "outputId": "7de129f1-2f37-48b2-d033-2ffcc63c1efb"
      },
      "execution_count": 157,
      "outputs": [
        {
          "output_type": "stream",
          "name": "stdout",
          "text": [
            "Looking in indexes: https://pypi.org/simple, https://us-python.pkg.dev/colab-wheels/public/simple/\n",
            "Requirement already satisfied: sentencepiece in /usr/local/lib/python3.9/dist-packages (0.1.97)\n",
            "Looking in indexes: https://pypi.org/simple, https://us-python.pkg.dev/colab-wheels/public/simple/\n",
            "Requirement already satisfied: transformers in /usr/local/lib/python3.9/dist-packages (4.27.4)\n",
            "Requirement already satisfied: regex!=2019.12.17 in /usr/local/lib/python3.9/dist-packages (from transformers) (2022.10.31)\n",
            "Requirement already satisfied: huggingface-hub<1.0,>=0.11.0 in /usr/local/lib/python3.9/dist-packages (from transformers) (0.13.4)\n",
            "Requirement already satisfied: filelock in /usr/local/lib/python3.9/dist-packages (from transformers) (3.10.7)\n",
            "Requirement already satisfied: requests in /usr/local/lib/python3.9/dist-packages (from transformers) (2.27.1)\n",
            "Requirement already satisfied: tqdm>=4.27 in /usr/local/lib/python3.9/dist-packages (from transformers) (4.65.0)\n",
            "Requirement already satisfied: pyyaml>=5.1 in /usr/local/lib/python3.9/dist-packages (from transformers) (6.0)\n",
            "Requirement already satisfied: packaging>=20.0 in /usr/local/lib/python3.9/dist-packages (from transformers) (23.0)\n",
            "Requirement already satisfied: numpy>=1.17 in /usr/local/lib/python3.9/dist-packages (from transformers) (1.22.4)\n",
            "Requirement already satisfied: tokenizers!=0.11.3,<0.14,>=0.11.1 in /usr/local/lib/python3.9/dist-packages (from transformers) (0.13.3)\n",
            "Requirement already satisfied: typing-extensions>=3.7.4.3 in /usr/local/lib/python3.9/dist-packages (from huggingface-hub<1.0,>=0.11.0->transformers) (4.5.0)\n",
            "Requirement already satisfied: charset-normalizer~=2.0.0 in /usr/local/lib/python3.9/dist-packages (from requests->transformers) (2.0.12)\n",
            "Requirement already satisfied: urllib3<1.27,>=1.21.1 in /usr/local/lib/python3.9/dist-packages (from requests->transformers) (1.26.15)\n",
            "Requirement already satisfied: idna<4,>=2.5 in /usr/local/lib/python3.9/dist-packages (from requests->transformers) (3.4)\n",
            "Requirement already satisfied: certifi>=2017.4.17 in /usr/local/lib/python3.9/dist-packages (from requests->transformers) (2022.12.7)\n"
          ]
        }
      ]
    },
    {
      "cell_type": "code",
      "execution_count": 158,
      "metadata": {
        "colab": {
          "base_uri": "https://localhost:8080/"
        },
        "id": "eg_5OL4q-56M",
        "outputId": "9410c446-b5ec-4bf1-f81d-2c7ed24fe9d9"
      },
      "outputs": [
        {
          "output_type": "stream",
          "name": "stderr",
          "text": [
            "[nltk_data] Downloading package punkt to /root/nltk_data...\n",
            "[nltk_data]   Package punkt is already up-to-date!\n"
          ]
        },
        {
          "output_type": "execute_result",
          "data": {
            "text/plain": [
              "True"
            ]
          },
          "metadata": {},
          "execution_count": 158
        }
      ],
      "source": [
        "from transformers import T5Tokenizer, T5Config, T5ForConditionalGeneration\n",
        "from transformers import BartTokenizer, BartForConditionalGeneration\n",
        "import numpy as np\n",
        "import torch\n",
        "import random\n",
        "import re\n",
        "import nltk\n",
        "nltk.download('punkt')"
      ]
    },
    {
      "cell_type": "code",
      "source": [
        "device = torch.device(\"cpu\")\n",
        "\n",
        "if torch.cuda.is_available():\n",
        "   print(\"Using GPU\")\n",
        "   device = torch.device(\"cuda:0\")"
      ],
      "metadata": {
        "colab": {
          "base_uri": "https://localhost:8080/"
        },
        "id": "S3Wojs_cVXZd",
        "outputId": "9709a59f-2529-4677-8656-48295a2d0516"
      },
      "execution_count": 160,
      "outputs": [
        {
          "output_type": "stream",
          "name": "stdout",
          "text": [
            "Using GPU\n"
          ]
        }
      ]
    },
    {
      "cell_type": "markdown",
      "source": [
        "# Read in data\n",
        "Assume each set of evaluations corresponds to the same employee. Different employees will be read in separately and run through the model separately to generate per-employee summaries."
      ],
      "metadata": {
        "id": "zqWP-HHWCN8O"
      }
    },
    {
      "cell_type": "code",
      "source": [
        "original_text = \"On January 15th, 2021, @HomerSimpson was observed to perform to a satisfactory standard. This was evidenced by his successful completion of a routine safety check on Reactor 4. His actions show #competence #attentiontodetail #safetyconsciousness. On February 2nd, 2021, @HomerSimpson was observed to perform to a poor standard. This was evidenced by his failure to properly label hazardous waste containers in the storage room, leading to a safety hazard. His actions show #carelessness #lackofattention #safetyoversight. On March 12th, 2021, @HomerSimpson was observed to perform to an excellent standard. This was evidenced by his quick thinking and calm demeanor during an unexpected power surge in the control room. His actions show #resilience #problem-solving #teamwork.On April 5th, 2021, @HomerSimpson was observed to perform to a very good standard. This was evidenced by his leadership during a fire drill, guiding his team to safety and ensuring that all necessary procedures were followed. His actions show #leadership #teamcoordination #safetyconsciousness. On May 22nd, 2021, @HomerSimpson was observed to perform to a satisfactory standard. This was evidenced by his successful completion of a routine maintenance check on the cooling system, though he did require some prompting to remember certain procedures. His actions show #competence #teachable #attentiontodetail. On June 7th, 2021, @HomerSimpson was observed to perform to a poor standard. This was evidenced by his failure to report a leak in a coolant pipe, which caused damage to nearby equipment. His actions show #negligence #lackofresponsibility #safetyoversight. On July 15th, 2021, @HomerSimpson was observed to perform to a good standard. This was evidenced by his successful completion of a new training module on emergency response procedures. His actions show #willingnesstolearn #adaptability #safetyconsciousness. On August 9th, 2021, @HomerSimpson was observed to perform to a very good standard. This was evidenced by his coordination of a team to repair a malfunctioning steam valve, minimizing downtime and avoiding any safety hazards. His actions show #teamcoordination #problem-solving #efficiency. On September 27th, 2021, @HomerSimpson was observed to perform to a satisfactory standard. This was evidenced by his successful completion of a routine inspection of the turbine generators, though he did forget to record one measurement. His actions show #competence #attentiontodetail #teachable. On October 14th, 2021, @HomerSimpson was observed to perform to an excellent standard. This was evidenced by his quick response to a power outage in Sector 7G, restoring power and ensuring that critical systems remained operational. His actions show #resilience #problem-solving #safetyconsciousness. On May 3rd @HomerSimpson was observed to perform to a satisfactory standard. This was evidenced by his willingness to work overtime to assist with the cleanup of the oil spill. His actions show #dedication and #cooperativeness. On May 11th @HomerSimpson was observed to perform to a poor standard. This was evidenced by his careless handling of nuclear waste, which resulted in a spill that contaminated the town's water supply. His actions show #recklessness and #carelessness. On May 27th @HomerSimpson was observed to perform to a poor standard. This was evidenced by his lack of concern for the safety of his fellow workers when he removed safety equipment in order to increase his productivity. His actions show #irresponsibility and #selfishness. On June 3rd @HomerSimpson was observed to perform to a satisfactory standard. This was evidenced by his ability to work effectively under pressure when the plant's emergency systems were activated. His actions show #calmness and #levelheadedness. On June 9th @HomerSimpson was observed to perform to a good standard. This was evidenced by his creative solution to the plant's budget problems, which involved turning off unnecessary equipment. His actions show #innovation and #costconsciousness. On June 16th @HomerSimpson was observed to perform to a very good standard. This was evidenced by his success in negotiating a union contract that was fair to both the workers and the company. His actions show #diplomacy and #negotiation skills. On June 23rd @HomerSimpson was observed to perform to a poor standard. This was evidenced by his careless use of the company car, which resulted in damage to both the car and the property of others. His actions show #carelessness and #negligence. On June 29th @HomerSimpson was observed to perform to a satisfactory standard. This was evidenced by his willingness to work on a holiday in order to assist with an important project. His actions show #dedication and #teamwork. On August 1st, while filling in for Smithers, @HomerSimpson was observed to perform to a very good standard. This was evidenced by his organization of Mr. Burns' schedule and preparation of his meals. His actions show #responsibility, #efficiency, and #attentiontodetail. On August 3rd, @HomerSimpson was observed to perform to a satisfactory standard. This was evidenced by his handling of Mr. Burns' incoming mail and scheduling of appointments. His actions show #competence and #accuracy, but there is room for improvement. On August 7th, @HomerSimpson was observed to perform to a poor standard. This was evidenced by his mishandling of Mr. Burns' laundry, resulting in several ruined garments. His actions show #carelessness and #inattention. On August 10th, @HomerSimpson was observed to perform to a very good standard. This was evidenced by his creative solution to a scheduling conflict, allowing Mr. Burns to attend both a charity event and a business meeting. His actions show #resourcefulness and #innovation. On August 15th, @HomerSimpson was observed to perform to a satisfactory standard. This was evidenced by his coordination of Mr. Burns' transportation for the day. His actions show #adequacy and #dependability, but once again, there is room for improvement. On August 18th, @HomerSimpson was observed to perform to a good standard. This was evidenced by his successful negotiation of a contract with a new supplier, resulting in cost savings for the company. His actions show #assertiveness and #businesssavvy. On August 22nd, @HomerSimpson was observed to perform to a very good standard. This was evidenced by his management of Mr. Burns' finances, including payment of bills and tracking of expenses. His actions show #financialacumen and #thoroughness. On August 25th, @HomerSimpson was observed to perform to a poor standard. This was evidenced by his forgetting to inform Mr. Burns of an important meeting, resulting in a missed opportunity for the company. His actions show #forgetfulness and #lackofattention. On August 28th, @HomerSimpson was observed to perform to a good standard. This was evidenced by his troubleshooting of a technical issue with the office equipment, avoiding a costly repair bill. His actions show #technicalskill and #problem-solving. On August 31st, @HomerSimpson was observed to perform to a satisfactory standard. This was evidenced by his handling of Mr. Burns' correspondence and phone calls for the day. His actions show #mediocrity and #routine, but no major mistakes were made.\""
      ],
      "metadata": {
        "id": "5Dl_Dg5SYaBR"
      },
      "execution_count": 161,
      "outputs": []
    },
    {
      "cell_type": "markdown",
      "source": [
        "# Preprocessing Functions"
      ],
      "metadata": {
        "id": "5FLwC_4ZCZB5"
      }
    },
    {
      "cell_type": "code",
      "source": [
        "# def clean_text(text):\n",
        "#     text = re.sub(r\"@[A-Za-z0-9]+\", ' ', text)\n",
        "#     text = re.sub(r\"https?://[A-Za-z0-9./]+\", ' ', text)\n",
        "#     text = re.sub(r\"[^a-zA-z.!?'0-9]\", ' ', text)\n",
        "#     text = re.sub('\\t', ' ', text)\n",
        "#     text = re.sub(r\" +\", ' ', text)\n",
        "#     return text"
      ],
      "metadata": {
        "id": "rCs7NNrshVYo"
      },
      "execution_count": 162,
      "outputs": []
    },
    {
      "cell_type": "code",
      "source": [
        "# def shuffle_sentences(text):\n",
        "#   x = text.split('.')\n",
        "#   random.shuffle(x)\n",
        "#   shuffled = ' '.join(x)\n",
        "#   return \"summarize: \" + shuffled "
      ],
      "metadata": {
        "id": "64PikuZgMzRQ"
      },
      "execution_count": 163,
      "outputs": []
    },
    {
      "cell_type": "code",
      "source": [
        "# generate chunks of text \\ sentences <= 512 tokens\n",
        "def nest_sentences(document):\n",
        "  nested = []\n",
        "  sent = [\"summarize\"]  # need to provide task instruction as the first token\n",
        "  length = 0\n",
        "  for sentence in nltk.sent_tokenize(document):\n",
        "    length += len(sentence)\n",
        "    if length < 512:\n",
        "      sent.append(sentence)\n",
        "    else:\n",
        "      nested.append(sent)\n",
        "      sent = []\n",
        "      length = 0\n",
        "\n",
        "  if sent:\n",
        "    random.shuffle(sent)\n",
        "    result = ''.join(sent)\n",
        "    nested.append(result)\n",
        "  return nested"
      ],
      "metadata": {
        "id": "vi2qDgFK0MWt"
      },
      "execution_count": 127,
      "outputs": []
    },
    {
      "cell_type": "markdown",
      "source": [
        "# Summarization function\n",
        "Nested function feeds input sentence by sentence, which doesn't allow summarization across a report. Use generate_summary instead."
      ],
      "metadata": {
        "id": "cAqGHVrU1Qzc"
      }
    },
    {
      "cell_type": "code",
      "source": [
        "# from https://github.com/saarthdeshpande/book-summarizer/blob/master/model.py\n",
        "\n",
        "# def generate_summary(text, tokenizer, model):\n",
        "#     preprocess_text = text.strip().replace(\"\\n\", \"\")\n",
        "#     t5_prepared_Text = \"summarize: \" + preprocess_text\n",
        "#     tokenized_text = tokenizer.encode(t5_prepared_Text, truncation=True, return_tensors=\"pt\")\n",
        "#     print(\"Num toks = \", len(preprocess_text))\n",
        "#     tokenized_text = tokenized_text.to(device)\n",
        "\n",
        "#     summary_ids = model.generate(tokenized_text,\n",
        "#                                  num_beams=5,\n",
        "#                                  no_repeat_ngram_size=2,\n",
        "#                                  min_length=30,\n",
        "#                                  max_length=96,\n",
        "#                                  early_stopping=True)\n",
        "\n",
        "#     output = tokenizer.decode(summary_ids[0], skip_special_tokens=True)\n",
        "#     return output"
      ],
      "metadata": {
        "id": "KJy5K4A_rIFU"
      },
      "execution_count": null,
      "outputs": []
    },
    {
      "cell_type": "code",
      "source": [
        "# generate summary on text with <= 512 tokens\n",
        "def generate_summary_nested(nested_sentences, tokenizer, model):\n",
        "  summaries = []\n",
        "  for nested in nested_sentences:\n",
        "    input_tokenized = tokenizer.encode(' '.join(nested), truncation=True, return_tensors='pt')\n",
        "    input_tokenized = input_tokenized.to(device)\n",
        "    summary_ids = model.to(device).generate(input_tokenized,\n",
        "                                            num_beams=4,\n",
        "                                            no_repeat_ngram_size=2,\n",
        "                                            min_length=5,\n",
        "                                            max_length=100,\n",
        "                                            early_stopping=True)\n",
        "    output = [tokenizer.decode(g, skip_special_tokens=True, clean_up_tokenization_spaces=False) for g in summary_ids]\n",
        "    summaries.append(output)\n",
        "  summaries = [sentence for sublist in summaries for sentence in sublist]\n",
        "  return summaries"
      ],
      "metadata": {
        "id": "yaJDKnZZ0OCy"
      },
      "execution_count": 164,
      "outputs": []
    },
    {
      "cell_type": "code",
      "source": [
        "# generate summary on text with <= 512 tokens\n",
        "def generate_summary(sentences, tokenizer, model):\n",
        "  input_tokenized = tokenizer.encode(sentences, truncation=True, return_tensors='pt')\n",
        "  input_tokenized = input_tokenized.to(device)\n",
        "  summary_ids = model.to(device).generate(input_tokenized,\n",
        "                                          num_beams=4,\n",
        "                                          min_length=50,\n",
        "                                          max_length=1000,\n",
        "                                          early_stopping=True)\n",
        "  output = [tokenizer.decode(g, skip_special_tokens=True, clean_up_tokenization_spaces=False) for g in summary_ids]\n",
        "  return output"
      ],
      "metadata": {
        "id": "ky9F76QSns8Y"
      },
      "execution_count": 165,
      "outputs": []
    },
    {
      "cell_type": "markdown",
      "source": [
        "# Create Tokenizer\n",
        "Corresponding T5 tokenizer from Hugging Face library"
      ],
      "metadata": {
        "id": "uCCWc1NN1T-9"
      }
    },
    {
      "cell_type": "code",
      "source": [
        "# Instantiate the tokenizer \n",
        "tokenizer = T5Tokenizer.from_pretrained('t5-small')\n",
        "##tokenizer = BartTokenizer.from_pretrained('facebook/bart-large-cnn')\n",
        "print(tokenizer.model_max_length)"
      ],
      "metadata": {
        "colab": {
          "base_uri": "https://localhost:8080/"
        },
        "id": "dFb9azUO_dMC",
        "outputId": "fc61e44c-758b-4dc8-ba82-ebcce594f36a"
      },
      "execution_count": 166,
      "outputs": [
        {
          "output_type": "stream",
          "name": "stdout",
          "text": [
            "512\n"
          ]
        },
        {
          "output_type": "stream",
          "name": "stderr",
          "text": [
            "/usr/local/lib/python3.9/dist-packages/transformers/models/t5/tokenization_t5.py:163: FutureWarning: This tokenizer was incorrectly instantiated with a model max length of 512 which will be corrected in Transformers v5.\n",
            "For now, this behavior is kept to avoid breaking backwards compatibility when padding/encoding with `truncation is True`.\n",
            "- Be aware that you SHOULD NOT rely on t5-small automatically truncating your input to 512 when padding/encoding.\n",
            "- If you want to encode/pad to sequences longer than 512 you can either instantiate this tokenizer with `model_max_length` or pass `max_length` when encoding/padding.\n",
            "- To avoid this warning, please instantiate this tokenizer with `model_max_length` set to your preferred value.\n",
            "  warnings.warn(\n"
          ]
        }
      ]
    },
    {
      "cell_type": "code",
      "source": [
        "# # Concatenate the word \"summarize:\" to raw text to tell the model what task to perform on the input\n",
        "# preprocess_text = original_text.strip().replace(\"\\n\",\"\")\n",
        "# t5_prepared_Text = \"summarize: \"+preprocess_text\n",
        "# print (\"original text preprocessed: \\n\", preprocess_text)\n",
        "\n",
        "# tokenized_text = tokenizer.encode(t5_prepared_Text, return_tensors=\"pt\")"
      ],
      "metadata": {
        "id": "_FtvMUdW_hzw"
      },
      "execution_count": 167,
      "outputs": []
    },
    {
      "cell_type": "markdown",
      "source": [
        "# Create Model\n",
        "Pretrained T5 model from Hugging Face library. This is a generic model that can do translation, summarization, etc. We will pass it the 'summarize' command appended to the front of the input stream to trigger a summary output from the model.\n",
        "\n",
        "https://towardsdatascience.com/simple-abstractive-text-summarization-with-pretrained-t5-text-to-text-transfer-transformer-10f6d602c426 "
      ],
      "metadata": {
        "id": "7IuTZPbsCUE9"
      }
    },
    {
      "cell_type": "code",
      "source": [
        "# Instantiate the model \n",
        "model = T5ForConditionalGeneration.from_pretrained('t5-small')\n",
        "##model = BartForConditionalGeneration.from_pretrained('facebook/bart-large-cnn').to(device)"
      ],
      "metadata": {
        "id": "ftgOTCpECbph"
      },
      "execution_count": 168,
      "outputs": []
    },
    {
      "cell_type": "markdown",
      "source": [
        "# Summarize\n",
        "Generate summary text given preprocessed input text containing a set of reports for a given employee."
      ],
      "metadata": {
        "id": "rPA_hObYBvaJ"
      }
    },
    {
      "cell_type": "code",
      "source": [
        "nested_text = nest_sentences(original_text)\n",
        "inputs = []\n",
        "for i in nested_text[0]:\n",
        "  inputs.append(i.split())  # TODO loop over all the chunks to get a long summar for each employee\n",
        "inputs_squeezed = np.concatenate( inputs, axis=0 )\n",
        "inputs_squeezed = [i + ' ' for i in inputs_squeezed]"
      ],
      "metadata": {
        "id": "-s-tO0HyutXi",
        "colab": {
          "base_uri": "https://localhost:8080/"
        },
        "outputId": "eb6baf3b-98d3-40e5-eae7-35cea3ce74e5"
      },
      "execution_count": 169,
      "outputs": [
        {
          "output_type": "stream",
          "name": "stdout",
          "text": [
            "On January 15th, 2021, @HomerSimpson was observed to perform to a satisfactory standard.\n",
            "This was evidenced by his successful completion of a routine safety check on Reactor 4.\n",
            "His actions show #competence #attentiontodetail #safetyconsciousness.\n",
            "On February 2nd, 2021, @HomerSimpson was observed to perform to a poor standard.\n",
            "This was evidenced by his failure to properly label hazardous waste containers in the storage room, leading to a safety hazard.\n",
            "His actions show #carelessness #lackofattention #safetyoversight.\n",
            "On March 12th, 2021, @HomerSimpson was observed to perform to an excellent standard.\n",
            "This was evidenced by his quick thinking and calm demeanor during an unexpected power surge in the control room.\n",
            "His actions show #resilience #problem-solving #teamwork.On April 5th, 2021, @HomerSimpson was observed to perform to a very good standard.\n",
            "This was evidenced by his leadership during a fire drill, guiding his team to safety and ensuring that all necessary procedures were followed.\n",
            "His actions show #leadership #teamcoordination #safetyconsciousness.\n",
            "On May 22nd, 2021, @HomerSimpson was observed to perform to a satisfactory standard.\n",
            "This was evidenced by his successful completion of a routine maintenance check on the cooling system, though he did require some prompting to remember certain procedures.\n",
            "His actions show #competence #teachable #attentiontodetail.\n",
            "On June 7th, 2021, @HomerSimpson was observed to perform to a poor standard.\n",
            "This was evidenced by his failure to report a leak in a coolant pipe, which caused damage to nearby equipment.\n",
            "His actions show #negligence #lackofresponsibility #safetyoversight.\n",
            "On July 15th, 2021, @HomerSimpson was observed to perform to a good standard.\n",
            "This was evidenced by his successful completion of a new training module on emergency response procedures.\n",
            "His actions show #willingnesstolearn #adaptability #safetyconsciousness.\n",
            "On August 9th, 2021, @HomerSimpson was observed to perform to a very good standard.\n",
            "This was evidenced by his coordination of a team to repair a malfunctioning steam valve, minimizing downtime and avoiding any safety hazards.\n",
            "His actions show #teamcoordination #problem-solving #efficiency.\n",
            "On September 27th, 2021, @HomerSimpson was observed to perform to a satisfactory standard.\n",
            "This was evidenced by his successful completion of a routine inspection of the turbine generators, though he did forget to record one measurement.\n",
            "His actions show #competence #attentiontodetail #teachable.\n",
            "On October 14th, 2021, @HomerSimpson was observed to perform to an excellent standard.\n",
            "This was evidenced by his quick response to a power outage in Sector 7G, restoring power and ensuring that critical systems remained operational.\n",
            "His actions show #resilience #problem-solving #safetyconsciousness.\n",
            "On May 3rd @HomerSimpson was observed to perform to a satisfactory standard.\n",
            "This was evidenced by his willingness to work overtime to assist with the cleanup of the oil spill.\n",
            "His actions show #dedication and #cooperativeness.\n",
            "On May 11th @HomerSimpson was observed to perform to a poor standard.\n",
            "This was evidenced by his careless handling of nuclear waste, which resulted in a spill that contaminated the town's water supply.\n",
            "His actions show #recklessness and #carelessness.\n",
            "On May 27th @HomerSimpson was observed to perform to a poor standard.\n",
            "This was evidenced by his lack of concern for the safety of his fellow workers when he removed safety equipment in order to increase his productivity.\n",
            "His actions show #irresponsibility and #selfishness.\n",
            "On June 3rd @HomerSimpson was observed to perform to a satisfactory standard.\n",
            "This was evidenced by his ability to work effectively under pressure when the plant's emergency systems were activated.\n",
            "His actions show #calmness and #levelheadedness.\n",
            "On June 9th @HomerSimpson was observed to perform to a good standard.\n",
            "This was evidenced by his creative solution to the plant's budget problems, which involved turning off unnecessary equipment.\n",
            "His actions show #innovation and #costconsciousness.\n",
            "On June 16th @HomerSimpson was observed to perform to a very good standard.\n",
            "This was evidenced by his success in negotiating a union contract that was fair to both the workers and the company.\n",
            "His actions show #diplomacy and #negotiation skills.\n",
            "On June 23rd @HomerSimpson was observed to perform to a poor standard.\n",
            "This was evidenced by his careless use of the company car, which resulted in damage to both the car and the property of others.\n",
            "His actions show #carelessness and #negligence.\n",
            "On June 29th @HomerSimpson was observed to perform to a satisfactory standard.\n",
            "This was evidenced by his willingness to work on a holiday in order to assist with an important project.\n",
            "His actions show #dedication and #teamwork.\n",
            "On August 1st, while filling in for Smithers, @HomerSimpson was observed to perform to a very good standard.\n",
            "This was evidenced by his organization of Mr. Burns' schedule and preparation of his meals.\n",
            "His actions show #responsibility, #efficiency, and #attentiontodetail.\n",
            "On August 3rd, @HomerSimpson was observed to perform to a satisfactory standard.\n",
            "This was evidenced by his handling of Mr. Burns' incoming mail and scheduling of appointments.\n",
            "His actions show #competence and #accuracy, but there is room for improvement.\n",
            "On August 7th, @HomerSimpson was observed to perform to a poor standard.\n",
            "This was evidenced by his mishandling of Mr. Burns' laundry, resulting in several ruined garments.\n",
            "His actions show #carelessness and #inattention.\n",
            "On August 10th, @HomerSimpson was observed to perform to a very good standard.\n",
            "This was evidenced by his creative solution to a scheduling conflict, allowing Mr. Burns to attend both a charity event and a business meeting.\n",
            "His actions show #resourcefulness and #innovation.\n",
            "On August 15th, @HomerSimpson was observed to perform to a satisfactory standard.\n",
            "This was evidenced by his coordination of Mr. Burns' transportation for the day.\n",
            "His actions show #adequacy and #dependability, but once again, there is room for improvement.\n",
            "On August 18th, @HomerSimpson was observed to perform to a good standard.\n",
            "This was evidenced by his successful negotiation of a contract with a new supplier, resulting in cost savings for the company.\n",
            "His actions show #assertiveness and #businesssavvy.\n",
            "On August 22nd, @HomerSimpson was observed to perform to a very good standard.\n",
            "This was evidenced by his management of Mr. Burns' finances, including payment of bills and tracking of expenses.\n",
            "His actions show #financialacumen and #thoroughness.\n",
            "On August 25th, @HomerSimpson was observed to perform to a poor standard.\n",
            "This was evidenced by his forgetting to inform Mr. Burns of an important meeting, resulting in a missed opportunity for the company.\n",
            "His actions show #forgetfulness and #lackofattention.\n",
            "On August 28th, @HomerSimpson was observed to perform to a good standard.\n",
            "This was evidenced by his troubleshooting of a technical issue with the office equipment, avoiding a costly repair bill.\n",
            "His actions show #technicalskill and #problem-solving.\n",
            "On August 31st, @HomerSimpson was observed to perform to a satisfactory standard.\n",
            "This was evidenced by his handling of Mr. Burns' correspondence and phone calls for the day.\n",
            "His actions show #mediocrity and #routine, but no major mistakes were made.\n"
          ]
        }
      ]
    },
    {
      "cell_type": "code",
      "source": [
        "# Summarize preprocessed text\n",
        "generate_summary(' '.join(inputs_squeezed), tokenizer, model)"
      ],
      "metadata": {
        "colab": {
          "base_uri": "https://localhost:8080/"
        },
        "id": "T5cN1atWHm7m",
        "outputId": "b0b1eb35-03ec-47b5-afd4-01f7d4de60b0"
      },
      "execution_count": 170,
      "outputs": [
        {
          "output_type": "execute_result",
          "data": {
            "text/plain": [
              "['@HomerSimpson was observed to perform to a satisfactory standard . his actions show #competence #attentiontodetail #safetyconsciousness . this was evidenced by his failure to properly label hazardous waste containers in the storage room .']"
            ]
          },
          "metadata": {},
          "execution_count": 170
        }
      ]
    },
    {
      "cell_type": "code",
      "source": [
        "# # summmarize \n",
        "# summary_ids = model.generate(tokenized_text,\n",
        "#                                     num_beams=4,\n",
        "#                                     no_repeat_ngram_size=2,\n",
        "#                                     min_length=500,\n",
        "#                                     max_length=1000,\n",
        "#                                     early_stopping=True)\n",
        "\n",
        "# output = tokenizer.decode(summary_ids[0], skip_special_tokens=True)\n",
        "\n",
        "# print (\"\\n\\nSummarized text: \\n\",output)"
      ],
      "metadata": {
        "colab": {
          "base_uri": "https://localhost:8080/"
        },
        "id": "V_g0RR0HKu5Y",
        "outputId": "570516e1-f128-41ea-de90-7b497b0894d2"
      },
      "execution_count": null,
      "outputs": [
        {
          "output_type": "stream",
          "name": "stdout",
          "text": [
            "\n",
            "\n",
            "Summarized text: \n",
            " @HomerSimpson was observed to perform to a satisfactory standard. this was evidenced by his failure to properly label hazardous waste containers in the storage room, leading to safety hazard. his actions show #resilience #problem-solving #safetyoversight. on may 27th, 2021, @homersimpedson performed to an excellent standard. he did forget to record one measurement, resulting in several ruined garments, and his efforts show'responsibility........................................ in dr st. pep'd o e w t y, the! &, in an un ned,,' ; i m com u.s. and re, his action show self-help, on august, at the end? raf was seen if the company's own – - and not to the safety of l', an alleged thoroughness / and #sys and the same : b p f, to his en, her, or the, that ’s to have c., #selfishness and/ or an, but.... to get his work despite wards vs the in his, \"the......... and... on g z x and other %, this â€” his own,......and..... and, of, just ten ng, with the work,#self — ­,’ ing ” and in, it’’, ‘so, was able to take h» his steps show, as   and. the #homed.home' his act, ( ) and on the other, not unless __, de-seas;;,;##e.; and also, [home] and \"rel...., some riots...#home,»;s' and this,\" ). ++ #co-work versus 0 based on his care whose quotquot!! ........ ] at q&m, work;self;home rescuing,\n"
          ]
        }
      ]
    }
  ]
}